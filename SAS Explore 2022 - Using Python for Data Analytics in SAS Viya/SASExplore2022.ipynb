{
 "cells": [
  {
   "cell_type": "markdown",
   "id": "c0028bb4-80cd-4ef3-a48c-dd93c93b1279",
   "metadata": {},
   "source": [
    "# Welcome to SAS Explore 2022 - Using Python for Data Analytics in SAS® Viya®"
   ]
  },
  {
   "cell_type": "markdown",
   "id": "bc2e9127-da22-47ec-9787-c4e7eb1373b6",
   "metadata": {},
   "source": [
    "![image](./images/00_a_intro_SASExplore.png)"
   ]
  },
  {
   "cell_type": "markdown",
   "id": "44389a6c-493c-4f9d-ba54-2ec86105e8d9",
   "metadata": {},
   "source": [
    "![image](./images/00_b_intro_title.png)"
   ]
  },
  {
   "cell_type": "markdown",
   "id": "2a946174-bdce-46c1-8b58-eeef3fcd991f",
   "metadata": {},
   "source": [
    "![image](./images/00_c_intro_bio.png)"
   ]
  },
  {
   "cell_type": "code",
   "execution_count": null,
   "id": "35590098-a3a3-452a-9110-2c17873064ef",
   "metadata": {},
   "outputs": [],
   "source": [
    "##\n",
    "## Display image function\n",
    "##\n",
    "\n",
    "from IPython.display import Image\n",
    "def display_image(path):\n",
    "    ''' The images folder must reside in the same location as this notebook to display the images using the user function'''\n",
    "    return Image(url='images/' + path)"
   ]
  },
  {
   "cell_type": "markdown",
   "id": "49dd7a37-77b8-4fc2-851c-45b4e0fd148c",
   "metadata": {},
   "source": [
    " "
   ]
  },
  {
   "cell_type": "markdown",
   "id": "1adfd0bb-afce-448f-a4e9-ec008f5ac505",
   "metadata": {},
   "source": [
    "## Introduction to SAS Viya"
   ]
  },
  {
   "cell_type": "markdown",
   "id": "1b8154fe-3d1d-4d34-a094-69448dbb51c4",
   "metadata": {},
   "source": [
    "### SAS Viya Overview"
   ]
  },
  {
   "cell_type": "code",
   "execution_count": null,
   "id": "a1fa7340-56aa-4017-b283-e52a7cc29a1a",
   "metadata": {},
   "outputs": [],
   "source": [
    "display_image('01_a_Viya_Overview.png')"
   ]
  },
  {
   "cell_type": "markdown",
   "id": "12fb1af4-a956-4e00-86f5-a6119d146d73",
   "metadata": {
    "jupyter": {
     "source_hidden": true
    },
    "tags": []
   },
   "source": [
    "SAS Viya is the latest enhancement of SAS. It's built for the entire analytics life cycle, from asking business questions and defining the problem to accessing, exploring, and preparing the necessary data from an assortment of data sources. Then you can build and implement predictive models using a variety of SAS applications or programming languages. Lastly, you can act on the insights, evaluate the analysis, and go straight back into the loop for additional insights.\n"
   ]
  },
  {
   "cell_type": "code",
   "execution_count": null,
   "id": "ff1c8451-4cc6-45f4-9dd0-c4e56dfcc217",
   "metadata": {},
   "outputs": [],
   "source": [
    "display_image('01_b_Viya_Overview.png')"
   ]
  },
  {
   "cell_type": "markdown",
   "id": "b60e5904-477e-48aa-a6b0-3b0eba5d3661",
   "metadata": {
    "jupyter": {
     "source_hidden": true
    },
    "tags": []
   },
   "source": [
    "SAS Viya consists of many applications that enable you to work with your data no matter your job role or skill level. This can be done through the collection of integrated AI, analytic, and data management solutions in SAS Viya.\n",
    "\n",
    "- The entry point for SAS Viya is **SAS Drive**, a collaborative interface for accessing, organizing, and sharing content. This application is the gateway to all other applications in SAS Viya. \n",
    "- **SAS Studio** is the interactive development environment (IDE) in SAS Viya that enables you to program, build flows, and even use point-and-click tools to process your data. \n",
    "- **SAS Visual Analytics** enables you to visualize data, build statistical models, and create interactive dashboards with an easy-to-use point-and-click interface.  \n",
    "- **SAS Data Studio** is the data preparation application that enables you to easily prepare data using point-and-click transforms. It also enables you to easily embed custom code if necessary.\n",
    "- **SAS Visual Statistics**, **SAS Visual Data Mining and Machine Learning**, and **SAS Visual Forecasting** are applications built for data scientists. Users can interactively create and refine predictive machine learning models and forecasts. \n",
    "- **SAS Model Manager** streamlines the model life cycle \n",
    "- **SAS Environment Manager** manages the entire environment. \n",
    "\n",
    "These are just a few of the many applications available in SAS Viya. All of these applications enable individuals in an organization to work with data.\n"
   ]
  },
  {
   "cell_type": "code",
   "execution_count": null,
   "id": "8e4a61ed-5e97-4946-a196-88e0d8100e47",
   "metadata": {},
   "outputs": [],
   "source": [
    "display_image('01_c_Viya_Overview.png')"
   ]
  },
  {
   "cell_type": "markdown",
   "id": "9d51d773-4ba4-4523-9c1e-a0f1650906a6",
   "metadata": {
    "jupyter": {
     "source_hidden": true
    },
    "tags": []
   },
   "source": [
    "We discussed that SAS Viya contains a variety of applications to process your data through the entirety of the analytics life cycle, but SAS Viya is much more than that. It's\n",
    " also cloud native, allowing scalable, web-based access to quick, accurate, and reliable analytical insights. \n",
    "Its in-memory engine and parallel processing capabilities can significantly improve the execution speed of your analytics. \n",
    "In its entirety, SAS Viya is a collaborative environment for all users. It enables everyone – data scientists, business analysts, developers, report viewers and executives alike – to collaborate, scale, and operationalize insights. \n",
    "\n",
    "How does all of this happen? SAS Viya includes multiple servers. The SAS Compute Server and SAS Cloud Analytic Services, or the CAS server for short. \n",
    "The SAS Compute Server enables you to execute traditional SAS code. The SAS Compute Server is the Viya equivalent of the SAS®9 workspace server. \n",
    "\n",
    "Then there’s the CAS server.  CAS has a massively parallel processing (MPP) architecture that is appropriate for analyzing big data and resource-intensive programs. It performs parallel processing on resident in-memory data to boost performance and produce lightning-fast results. It is optimal for big data and resource-intensive programs like machine learning. In this course, we focus on working with the CAS server in SAS Viya. \n",
    "\n",
    "All of these features are accessed from a web browser, and SAS Viya provides integration with open-source languages like Python, R, REST, JAVA, and LUA."
   ]
  },
  {
   "cell_type": "markdown",
   "id": "85ae2e79-1a81-41a3-a9e2-db2f09933b19",
   "metadata": {},
   "source": [
    "### CAS Server Overview"
   ]
  },
  {
   "cell_type": "code",
   "execution_count": null,
   "id": "20bae3f6-4990-4e91-8441-d6c7f4bf79c9",
   "metadata": {},
   "outputs": [],
   "source": [
    "display_image('02_a_CAS_Server.png')"
   ]
  },
  {
   "cell_type": "markdown",
   "id": "84cee3d0-b58f-4e6e-9cce-73c866d6b845",
   "metadata": {
    "jupyter": {
     "source_hidden": true
    },
    "tags": []
   },
   "source": [
    "The CAS server is the cloud-native, high-performance in-memory analytics and massively parallel processing engine. The CAS server is configured to run on multiple machines. Typically, you will have one controller node and several worker nodes. You need to make a connection to the CAS server from your client. This is called a CAS session or CAS connection. \n",
    "\n",
    "SAS Documentation - [SAS® Cloud Analytic Services: Fundamentals](https://go.documentation.sas.com/doc/en/pgmsascdc/v_028/casfun/titlepage.htm)"
   ]
  },
  {
   "cell_type": "code",
   "execution_count": null,
   "id": "95833e5c-40bb-4ec8-8bb4-021b901c78be",
   "metadata": {},
   "outputs": [],
   "source": [
    "display_image('02_b_CAS_Server.png')"
   ]
  },
  {
   "cell_type": "markdown",
   "id": "da2de804-6b28-4435-8e42-114529f1b4f5",
   "metadata": {
    "jupyter": {
     "source_hidden": true
    },
    "tags": []
   },
   "source": [
    "For data to be processed in CAS, data is copied into memory from some data source, and data blocks are automatically distributed across the worker nodes and loaded into memory. This is called serial loading. Once data is loaded into memory it persists in memory until explicitly dropped or the CAS session ends. \n",
    "\n",
    "You can also load data into memory in parallel. View the following resources for additional information:\n",
    "- [Five Approaches for High-Performance Data Loading to the SAS® Cloud Analytic Services Server](https://www.sas.com/content/dam/SAS/support/en/sas-global-forum-proceedings/2018/1854-2018.pdf)\n",
    "-[Parallel data load to SAS Viya](https://communities.sas.com/t5/SAS-Communities-Library/Parallel-data-load-to-SAS-Viya/ta-p/361318#:~:text=In%20SAS%C2%AE%20Viya%E2%84%A2,sets%20into%20the%20CAS%20server.)\n",
    "- [4 Approaches for Parallel Data Loading to CAS](https://communities.sas.com/t5/SAS-Communities-Library/4-Approaches-for-Parallel-Data-Loading-to-CAS/ta-p/370955)]\n",
    "- [How to Parallel Load and Compress a SAS® Cloud Analytic Services (CAS) Table](https://blogs.sas.com/content/sgf/2019/10/17/how-to-parallel-load-and-compress-a-sas-cloud-analytic-services-cas-table/)\n",
    "\n"
   ]
  },
  {
   "cell_type": "code",
   "execution_count": null,
   "id": "3d655197-b3b4-4efb-ad1e-83b456ec495e",
   "metadata": {},
   "outputs": [],
   "source": [
    "display_image('02_c_CAS_Server.png')"
   ]
  },
  {
   "cell_type": "markdown",
   "id": "cc8b3196-f0c8-4f59-8565-fe1d5ee724f6",
   "metadata": {
    "jupyter": {
     "source_hidden": true
    },
    "tags": []
   },
   "source": [
    "If you persist the data in memory, it enables multiple users to access the same in-memory table without any additional I/O (data load from disk to memory). Because I/O is more resource intensive, having data preloaded into memory speeds up the processing for all users.   \n",
    "\n",
    "For example, person A can execute a variety of Python programs, person B can create dashboards using SAS Visual Analytics, and person C can execute machine learning models. All users can do this using the same in-memory table copy. \n",
    "\n",
    "In all instances, the controller accepts the programs from the client and distributes code to the workers. The workers perform coordinated parallel processing on their portion of the data, with multiple nodes executing the same actions on different parts of the data at the same time. The controller monitors progress and coordinates re-assembling the result segments produced by each worker. If requested by the client, the controller then returns the results to the client for further processing. Modifications to the in-memory table are not reflected in the physically stored data source. If you want to update the physical data source, the in-memory table must be explicitly saved back to the physical storage location."
   ]
  },
  {
   "cell_type": "code",
   "execution_count": null,
   "id": "9db11828-a8e7-44c3-824c-66e73dee2c9c",
   "metadata": {},
   "outputs": [],
   "source": [
    "display_image('02_d_CAS_Server.png')"
   ]
  },
  {
   "cell_type": "markdown",
   "id": "ac7b06a8-322c-4b95-8c67-37f8c118fc0c",
   "metadata": {
    "jupyter": {
     "source_hidden": true
    },
    "tags": []
   },
   "source": [
    "The CAS server needs to access data from some physical data source. CAS can access data from a variety of sources using [SAS Viya Data Connectors](https://go.documentation.sas.com/doc/en/pgmsascdc/v_029/casref/p0j09xx6p9ffven1x7z9cq8s1zaa.htm), including databases, Hadoop, streaming data, path-based files, and data stored in the cloud.\n",
    "\n",
    "Once data is loaded into memory on the CAS server, you can process that data using CAS actions. Actions are optimized units of work built for the distributed CAS server. CAS actions provide a range of functionality from managing, processing, analyzing, and modeling data, to executing most traditional SAS DATA step, FedSQL, and even DS2! The question is, how can you execute actions? \n",
    "\n",
    "SAS Viya provides a variety of interfaces for executing CAS actions. One way to execute actions on the CAS server is to use the native CAS language, or CASL for short. CASL supports executing CAS actions on the CAS server and uses normal programing logic. If you have experience using languages like Lua, Python, or R, CASL will be an easy language to learn.\n",
    "\n",
    "Instead of using CASL, you can also execute CAS actions through the CAS API using traditional SAS programming, FedSQL, Java, Python, R, Lua, and REST API. This course focuses on using the Python language.\n",
    "\n",
    " Lastly, you can use a variety of SAS Viya applications like SAS Visual Analytics to create dashboards, SAS Visual Statistics and SAS Visual Data Mining and Machine Learning for modeling and statistics, and a variety of others. All applications execute actions behind the scenes.\n",
    "\n",
    "\n",
    "NOTES:\n",
    "1. With the SAS programming language, many PROCs and much of the traditional DATA step is CAS enabled and can be executed on CAS tables. For more information about how to execute traditional SAS code in SAS Viya, you can view the Programming for SAS Viya course: https://support.sas.com/edu/schedules.html?crs=PGVIYA&ctry=US.\n",
    "2. For Java, you must use the CASClient class.\n",
    "3. For Python, R, and Luna, the SWAT package is required. Many familiar methods are available through the SWAT package.\n",
    "4. The CAS API converts the native language syntax to CAS actions behind the scenes.\n",
    "5. Visit the SAS website for detailed information about all available SAS Viya offerings."
   ]
  },
  {
   "cell_type": "code",
   "execution_count": null,
   "id": "a5c5a07f-4114-4247-b257-6a880d999ee1",
   "metadata": {},
   "outputs": [],
   "source": [
    "display_image('02_e_CAS_Server.png')"
   ]
  },
  {
   "cell_type": "markdown",
   "id": "380a6b83-20f0-4d46-b605-a16a536f5086",
   "metadata": {
    "jupyter": {
     "source_hidden": true
    },
    "tags": []
   },
   "source": [
    "You can use Python on your client to explore, prepare, analyze, and model big data on the CAS server using familiar Python syntax along with CAS actions to take advantage of the parallel processing power of CAS. If you are preparing data in CAS, you can then share that data with other users or other SAS Viya applications like SAS Visual Analytics to create shareable dashboards. \n",
    "\n",
    "If you are exploring, analyzing, or modeling data in CAS to take advantage of the in-memory parallel processing power,  CAS returns smaller summarized results back to your local Python client. Once the summarized results from the CAS server are returned to your client, you can use native Python packages on the smaller, more manageable data.\n"
   ]
  },
  {
   "cell_type": "code",
   "execution_count": null,
   "id": "5f1595b0-6466-4b08-bad1-89e4d3eda784",
   "metadata": {},
   "outputs": [],
   "source": [
    "display_image('02_f_CAS_Server.png')"
   ]
  },
  {
   "cell_type": "markdown",
   "id": "872149f2-9a7a-4121-ad07-62cf818c00c0",
   "metadata": {
    "jupyter": {
     "source_hidden": true
    },
    "tags": []
   },
   "source": [
    "The first question is always, Is CAS faster than your open-source environment? Well, it depends. CAS overhead processes might include starting the required services, explicitly loading data and code to the worker nodes, monitoring the progress as the data is processed on each worker node, collating results on the controller node, and delivering final results to the client. \n",
    "\n",
    "For small tables and simple processes, the SAS Compute Server or your open-source environment might provide quicker results.\n"
   ]
  },
  {
   "cell_type": "code",
   "execution_count": null,
   "id": "5dc62658-f478-4063-b92f-843f9c14dca3",
   "metadata": {},
   "outputs": [],
   "source": [
    "display_image('02_g_CAS_Server.png')"
   ]
  },
  {
   "cell_type": "markdown",
   "id": "66751753-4495-4986-ac19-b3b85d1f63d9",
   "metadata": {
    "jupyter": {
     "source_hidden": true
    },
    "tags": []
   },
   "source": [
    "The second question is always, Which programs should I consider executing in CAS? The answer again is \"it depends.\" \n",
    "\n",
    "The data size thresholds for your open-source environment might be significantly different, but for large data, for code that runs for a long period of time,  or for processes that are complex and computationally demanding, CAS normally provides much faster results. When maximizing processing speed is essential, benchmark multiple processes to determine the best choice for your specific situation. \n",
    "\n",
    "You also want to use CAS to access data in a variety of locations that is already set up in your organization, use specific CAS actions to process data, or to prepare data for use in other SAS Viya applications, such as SAS Visual Analytics."
   ]
  },
  {
   "cell_type": "markdown",
   "id": "1ae71a99-126a-4e5e-8b08-2208845ef514",
   "metadata": {},
   "source": [
    "### SWAT Package Overview\n",
    "[SWAT Documentation](https://sassoftware.github.io/python-swat/getting-started.html)"
   ]
  },
  {
   "cell_type": "code",
   "execution_count": null,
   "id": "d984ebe3-3533-46c3-9d1e-9517dccf516d",
   "metadata": {},
   "outputs": [],
   "source": [
    "display_image('03_a_swat_package.png')"
   ]
  },
  {
   "cell_type": "markdown",
   "id": "a448daba-5325-4401-ac84-64b419144486",
   "metadata": {
    "jupyter": {
     "source_hidden": true
    },
    "tags": []
   },
   "source": [
    "In order to process data with Python on the CAS server, you must use the SAS Scripting Wrapper for Analytics Transfer, or the SWAT package for short. This is an open-source package used with Python, R, and Lua. With the SWAT package, you can write a program that connects to the CAS server, quickly load large amounts of data into memory, analyze the data, and then work with the results of your analysis using familiar techniques in the open-source language of your choice.\n",
    "\n",
    "The Python SWAT package contains many familiar Pandas methods, functions, and attributes that work like their counterparts. However, not all methods and functions are available, so be sure to download the latest version of the SWAT package for the most up-to-date functionality.\n",
    "\n",
    "Lastly, the SWAT package also contains an enormous number of CAS actions and CAS methods that can be used to process your data.\n"
   ]
  },
  {
   "cell_type": "code",
   "execution_count": null,
   "id": "9d8b3b61-9748-4a29-a92e-1922cbbe6bb7",
   "metadata": {},
   "outputs": [],
   "source": [
    "display_image('03_b_swat_package.png')"
   ]
  },
  {
   "cell_type": "markdown",
   "id": "cae735d9-0b3b-4bf8-bbce-e89c2a4218f2",
   "metadata": {
    "jupyter": {
     "source_hidden": true
    },
    "tags": []
   },
   "source": [
    "For example, with the SWAT package, you can use the familiar head method from the Pandas API on a CAS table to return the first n rows of a CAS table.\n",
    "\n",
    "In all cases, the code is translated through the CAS API into the same fetch CAS action behind the scenes and sent to the CAS server. The action is processed in CAS, and the results are sent from the CAS server to the client."
   ]
  },
  {
   "cell_type": "code",
   "execution_count": null,
   "id": "be280092-1e8c-442d-9bf1-71d81644eb86",
   "metadata": {},
   "outputs": [],
   "source": [
    "display_image('03_c_a0_swat_package.png')"
   ]
  },
  {
   "cell_type": "markdown",
   "id": "aec71675-4849-4f0e-80a5-00c1d45819ed",
   "metadata": {
    "jupyter": {
     "source_hidden": true
    },
    "tags": []
   },
   "source": [
    "The CAS API converts familiar Pandas methods into actions behind the scenes, but you can also execute actions directly through the SWAT package.\n",
    "\n",
    "In this example, you can execute the same fetch CAS action in Python. The action is sent to the CAS server, and CAS processes the action and returns the results to the client. The same action can be used in all languages that work with CAS.\n"
   ]
  },
  {
   "cell_type": "code",
   "execution_count": null,
   "id": "48d68c8a-c55f-4081-b730-4c69f60cb276",
   "metadata": {},
   "outputs": [],
   "source": [
    "display_image('03_c_a1_swat_package.png')"
   ]
  },
  {
   "cell_type": "markdown",
   "id": "4a761a84-f3b3-4a57-942b-33e3ec8e5106",
   "metadata": {
    "jupyter": {
     "source_hidden": true
    },
    "tags": []
   },
   "source": [
    "CAS actions are organized into groups called CAS action sets, and the actions within a set perform related tasks. You can think of action sets as a package, and the actions within an action set as methods. \n",
    "\n",
    "For example, the table action set provides many actions for accessing and managing data.  These include the caslibInfo action to view available data sources, the tableInfo action to view available tables, the fileInfo action to list the data source files, and the fetch action to retrieve n rows of a table.\n",
    "\n",
    "You request a specific action by specifying the action set name, a period, and the action name. Specifying the action set name is usually optional. However, there are a few actions with the same name in different action sets. In those cases, the action set name is required. In this course, we typically specify only the action.\n"
   ]
  },
  {
   "cell_type": "code",
   "execution_count": null,
   "id": "c4edebae-365d-4fe0-9b38-2a414d55bcf1",
   "metadata": {},
   "outputs": [],
   "source": [
    "display_image('03_c_a2_swat_package.png')"
   ]
  },
  {
   "cell_type": "markdown",
   "id": "4fd6b30d-81e4-4b5f-ac65-75ee1cdfd361",
   "metadata": {
    "jupyter": {
     "source_hidden": true
    },
    "tags": []
   },
   "source": [
    "CAS actions provide a variety of benefits.\n",
    "- First, CAS actions are optimized to run in the CAS server's massively parallel processing engine for lightening-fast results.\n",
    "- Second, the same CAS action is used regardless of programming language or application. That means you can use the same CAS action in CASL, Python, R, and more. This enables you to easily pass information between languages.\n",
    "- When using actions in different languages, the results are equivalent (given seeds).\n",
    "- Lastly, actions are multi-purpose. Actions perform a specific task, and within that task, an action can also perform a variety of other tasks like create a new table, create calculated columns, filter rows and columns, and group data.\n"
   ]
  },
  {
   "cell_type": "code",
   "execution_count": null,
   "id": "f9314b34-ba97-47c0-9490-b13ef780341f",
   "metadata": {},
   "outputs": [],
   "source": [
    "display_image('03_d_swat_package.png')"
   ]
  },
  {
   "cell_type": "markdown",
   "id": "d2cf3b04-a3db-4aa3-8851-caf2df88bbbb",
   "metadata": {
    "jupyter": {
     "source_hidden": true
    },
    "tags": []
   },
   "source": [
    "As an experienced Python programmer, you most likely are familiar with Python packages like Pandas, Matplotlib, NumPy, and seaborn. You might be thinking, “Great, I can use these packages on data in CAS!” \n",
    "\n",
    "**False!**\n",
    "\n",
    "Although these are great packages, they do not execute on data on the CAS server. I'll repeat this because it's very important and a common misconception.  Native Python packages do not execute on data on the CAS server.\n"
   ]
  },
  {
   "cell_type": "code",
   "execution_count": null,
   "id": "c6cd9807-74fb-4e4f-8592-243d91740a13",
   "metadata": {},
   "outputs": [],
   "source": [
    "display_image('03_e_swat_package.png')"
   ]
  },
  {
   "cell_type": "markdown",
   "id": "e3cea4f1-7243-4a63-aa34-1434d7823f6f",
   "metadata": {
    "jupyter": {
     "source_hidden": true
    },
    "tags": []
   },
   "source": [
    "In the end, having both your Python client and the CAS server offers you a lot of flexibility. The goal is to look at each as a tool and determine the best tool for the job."
   ]
  },
  {
   "cell_type": "markdown",
   "id": "b8d78342-2223-4369-8c05-49eb5d01123a",
   "metadata": {},
   "source": [
    "# Python Demonstration"
   ]
  },
  {
   "cell_type": "markdown",
   "id": "bbba523e-da3c-473f-8a65-20a11c5130c0",
   "metadata": {},
   "source": [
    "## 1. Setup"
   ]
  },
  {
   "cell_type": "markdown",
   "id": "70b037a1-cc9a-4b51-822a-ad4611e7475d",
   "metadata": {},
   "source": [
    "### a. Import Packages"
   ]
  },
  {
   "cell_type": "code",
   "execution_count": null,
   "id": "6a06a1e1-bf47-47ae-8eec-0ee5bc4c2ac6",
   "metadata": {},
   "outputs": [],
   "source": [
    "import swat\n",
    "import numpy as np\n",
    "import pandas as pd\n",
    "pd.set_option('max_colwidth', 400)\n",
    "pd.set_option('display.max_columns', None)\n",
    "\n",
    "import matplotlib.pyplot as plt\n",
    "import matplotlib"
   ]
  },
  {
   "cell_type": "markdown",
   "id": "a8da7d95-6c5b-4d23-aa89-a17490a7daa9",
   "metadata": {
    "tags": []
   },
   "source": [
    "### b. Load the Demonstration Data to the CAS Server\n",
    "Data can be found at the [SAS Viya Example Data Sets](https://support.sas.com/documentation/onlinedoc/viya/examples.htm) documentation page. We are using small data for training purposes. The code below loads the data into the CAS server then saves the CAS table as a CSV file in the **Casuser** caslib.\n",
    "\n",
    "**REQUIREMENT: Modify your CAS connection information below.**"
   ]
  },
  {
   "cell_type": "code",
   "execution_count": null,
   "id": "e6964c40-ef01-4ed5-99ad-0681809bd76e",
   "metadata": {},
   "outputs": [],
   "source": [
    "##\n",
    "## REQUIRED: Modify your connection information to the CAS server below.\n",
    "##\n",
    "\n",
    "## Connect to the CAS server. \n",
    "conn = swat.CAS('server.demo.sas.com', 30570, 'student', 'Metadata0')\n",
    "\n",
    "\n",
    "## Load data from the SAS example data sets to the CAS server as a CAS table\n",
    "conn.upload('https://support.sas.com/documentation/onlinedoc/viya/exampledatasets/TSAClaims2002_2017.csv',\n",
    "            casout = {'name':'tsa_claims_raw',\n",
    "                      'caslib':'casuser',\n",
    "                      'replace':True},\n",
    "            importoptions = {'filetype':'csv', \n",
    "                             'encoding':'latin1',\n",
    "                             'guessrows': 220000})\n",
    "\n",
    "\n",
    "## Save the CAS table as a CSV file in the Casuser caslib\n",
    "conn.save(table = 'tsa_claims_raw', caslib = 'casuser', \n",
    "          name = 'tsa_claims_raw.csv', \n",
    "          replace = True)\n",
    "\n",
    "\n",
    "## Terminate the CAS session\n",
    "conn.terminate()"
   ]
  },
  {
   "cell_type": "markdown",
   "id": "efbd8e0d-a3e5-470e-bc9f-18f0e1ad4479",
   "metadata": {},
   "source": [
    "#### Data Information\n",
    "\n",
    "The Transportation Security Administration (TSA) is an agency of the United States Department of Homeland Security that has authority over the security of transportation systems within, and connecting to the United States.\n",
    "\n",
    "The data that you use is **TSAClaims2002_2017.csv**, which was created from the following:\n",
    "- TSA Airport Claims data from https://www.dhs.gov/tsa-claims-data.\n",
    "- FAA Airport Facilities data from https://www.faa.gov/airports/airport_safety/airportdata_5010/.\n",
    "\n",
    "The **TSAClaims2002_2017.csv** file was created by concatenating each individual TSA Airport\n",
    "Claims table. After the concatenation, the data was joined with the FAA Airport Facilities data."
   ]
  },
  {
   "cell_type": "markdown",
   "id": "a63a1ada-7275-4370-877f-7d9115922867",
   "metadata": {},
   "source": [
    "## 2. Connect to the CAS Server"
   ]
  },
  {
   "cell_type": "code",
   "execution_count": null,
   "id": "e386304c-422d-4955-83de-2b95ca6bc5bb",
   "metadata": {},
   "outputs": [],
   "source": [
    "display_image('04_connect_to_cas.png')"
   ]
  },
  {
   "cell_type": "markdown",
   "id": "49d58c6a-65b4-42ce-b991-05fd99c87447",
   "metadata": {
    "jupyter": {
     "source_hidden": true
    },
    "tags": []
   },
   "source": [
    "To begin working with CAS, you need to make a connection to the CAS server. This is known as a CAS session. A CAS session contains a variety of information and properties. These include server status and licensing, as well as session properties like timeout, locale, active caslib, metrics, and more. \n",
    "\n",
    "You can also create multiple CAS sessions on the CAS server, and these CAS sessions are independent of each other. One reason you would want to create multiple CAS sessions is to execute programs in parallel. One example would be if you want to execute three different machine learning models at the same time. Otherwise, if you do not terminate your connection to CAS, you might mistakenly create multiple connections to CAS, consuming resources.\n"
   ]
  },
  {
   "cell_type": "markdown",
   "id": "7b31efaf-cbd3-46c5-86b6-059e60762564",
   "metadata": {},
   "source": [
    "Make a connection to the CAS server."
   ]
  },
  {
   "cell_type": "code",
   "execution_count": null,
   "id": "7d51adba-95dc-4301-8afa-90844248599e",
   "metadata": {},
   "outputs": [],
   "source": [
    "conn = swat.CAS('server.demo.sas.com', 30570, 'student', 'Metadata0')\n",
    "conn"
   ]
  },
  {
   "cell_type": "code",
   "execution_count": null,
   "id": "37a6ae07-0d41-4532-aaa5-7ec06e03ba42",
   "metadata": {},
   "outputs": [],
   "source": [
    "type(conn)"
   ]
  },
  {
   "cell_type": "markdown",
   "id": "215448cc-fa2b-4ff1-9c66-6baedbcacda0",
   "metadata": {},
   "source": [
    "Show the status of the CAS server."
   ]
  },
  {
   "cell_type": "code",
   "execution_count": null,
   "id": "dbbe1c63-486e-4b14-a9b7-28e423bc4f48",
   "metadata": {},
   "outputs": [],
   "source": [
    "conn.about()"
   ]
  },
  {
   "cell_type": "markdown",
   "id": "4b58bceb-3bfe-4410-b632-ffbcfb2174d9",
   "metadata": {},
   "source": [
    "## 3. Explore Available Data in the CAS Server\n",
    "\n",
    "[SAS Viya Data Connectors](https://go.documentation.sas.com/doc/en/pgmsascdc/v_029/casref/p0j09xx6p9ffven1x7z9cq8s1zaa.htm)"
   ]
  },
  {
   "cell_type": "code",
   "execution_count": null,
   "id": "3e35ca2f-6549-401c-87e5-4be5a415e82e",
   "metadata": {},
   "outputs": [],
   "source": [
    "display_image('05_a_Caslibs.png')"
   ]
  },
  {
   "cell_type": "markdown",
   "id": "6e4107f3-542b-4b57-ba1f-df1b4a547124",
   "metadata": {
    "jupyter": {
     "source_hidden": true
    },
    "tags": []
   },
   "source": [
    "CAS stores and accesses data via caslibs. Caslibs provide a common interface into accessing different data sources. No matter which data source you access in CAS, it is connected via a caslib. Caslibs connect into a variety of data sources in your organization."
   ]
  },
  {
   "cell_type": "code",
   "execution_count": null,
   "id": "27894654-270b-43a1-8178-5bd38d2ca404",
   "metadata": {},
   "outputs": [],
   "source": [
    "display_image('05_b_Caslibs.png')"
   ]
  },
  {
   "cell_type": "markdown",
   "id": "c2039d59-8e20-4fa1-9fb4-fea4bfdced23",
   "metadata": {
    "jupyter": {
     "source_hidden": true
    },
    "tags": []
   },
   "source": [
    "A caslib consists of three main parts. \n",
    "\n",
    "First, there’s the data source portion. The data source portion contains connection information to a physical data source for storage. Data might be stored on disk in a path with familiar formats such as SAS data sets, CSV, Microsoft Excel, or parquet files, or stored in databases, the cloud, Hadoop, or other systems. The data source portion stores the connection and authorization information required for interacting with those files using SAS Viya data connectors. Data stored in the data source portion of a caslib is generally referred to as files. Files in the data source area cannot be processed directly. \n",
    "\n",
    "The second part of a caslib is the in-memory portion. The in-memory portion provides a space to hold tables that can have operations performed on them. You can almost think of a CAS table as a DataFrame on the CAS server. A file must first be loaded into memory from a data source. Data loaded into memory is generally referred to as tables or CAS tables. >When they are loaded, in-memory tables are available for processing, and they persist in memory. Because there's no connection between the in-memory copy and the data source file, if you want to permanently keep changes made to the data during processing, the in-memory table should be explicitly written back to the data source. If you are done with the CAS table, you can drop the table. We discuss this more later.\n",
    "\n",
    "Lastly, a caslib contains access controls about who can access that specific caslib."
   ]
  },
  {
   "cell_type": "markdown",
   "id": "d3448db5-1c84-4fd0-9189-9040f2067eb6",
   "metadata": {},
   "source": [
    "### a. View Available Caslibs (Data Sources) in the CAS Server"
   ]
  },
  {
   "cell_type": "code",
   "execution_count": null,
   "id": "cdf648e9-8130-4c59-b560-dc6d10ecb35e",
   "metadata": {},
   "outputs": [],
   "source": [
    "conn.caslibInfo()"
   ]
  },
  {
   "cell_type": "markdown",
   "id": "4fbca6ab-a4b6-4f9c-b866-cbd9209e3c58",
   "metadata": {},
   "source": [
    "Specify the caslib to use."
   ]
  },
  {
   "cell_type": "code",
   "execution_count": null,
   "id": "4132a08c-92c9-493e-9d80-704bd1d0c215",
   "metadata": {},
   "outputs": [],
   "source": [
    "ds_caslib = 'casuser'"
   ]
  },
  {
   "cell_type": "markdown",
   "id": "c7e890c7-e2e4-4502-bf99-c2def3deb91f",
   "metadata": {},
   "source": [
    "### b. View Available Data Source Files in a Caslib"
   ]
  },
  {
   "cell_type": "code",
   "execution_count": null,
   "id": "7ed1764c-af5b-4678-93dd-b14947581450",
   "metadata": {},
   "outputs": [],
   "source": [
    "conn.fileInfo(caslib = ds_caslib)"
   ]
  },
  {
   "cell_type": "markdown",
   "id": "82877628-f21d-4191-b0d4-62030038c000",
   "metadata": {},
   "source": [
    "### c. View Available In-Memory CAS Tables in a Caslib"
   ]
  },
  {
   "cell_type": "code",
   "execution_count": null,
   "id": "bc492c75-b4ad-4009-94a1-3854de67b985",
   "metadata": {},
   "outputs": [],
   "source": [
    "conn.tableInfo(caslib = ds_caslib)"
   ]
  },
  {
   "cell_type": "markdown",
   "id": "a1042702-ed1a-4f72-ad48-913f1e0116ef",
   "metadata": {},
   "source": [
    "## 4. Load a Data Source File into Memory"
   ]
  },
  {
   "cell_type": "code",
   "execution_count": null,
   "id": "cad53ab8-d616-41c6-9fb8-fbdfde6659c6",
   "metadata": {},
   "outputs": [],
   "source": [
    "display_image('06_Loading_data_to_cas.png')"
   ]
  },
  {
   "cell_type": "markdown",
   "id": "eafdd33f-d4fa-4b2c-b7a9-98a9a08b37b5",
   "metadata": {
    "jupyter": {
     "source_hidden": true
    },
    "tags": []
   },
   "source": [
    "There are two main ways that you can load data into memory in CAS. One way is to load data files that are stored in the data source portion of a caslib. These are called server-side files, and it's considered a server-side load. Server-side files are simply files that are associated with a caslib. These are the most common types of files loaded into memory.\n",
    " \n",
    "Another way to load files in memory is through the client. These are called client-side files, and they reside on your client machine. To load client-side files, you must have the correct permissions."
   ]
  },
  {
   "cell_type": "markdown",
   "id": "06efc9c9-c7b8-4c39-ba17-ebe863c2522d",
   "metadata": {},
   "source": [
    "### a. Load a Server-Side File into Memory"
   ]
  },
  {
   "cell_type": "code",
   "execution_count": null,
   "id": "d0e2a65d-f7d0-42b7-84d8-3456c356c802",
   "metadata": {},
   "outputs": [],
   "source": [
    "conn.loadTable(path = 'tsa_claims_raw.csv', caslib = ds_caslib,   ## Specify the data source file and caslib location\n",
    "               casOut = {'name':'tsa_claims_bad',                 ## Specify the output CAS table information\n",
    "                         'caslib':ds_caslib,\n",
    "                         'replace':True})"
   ]
  },
  {
   "cell_type": "markdown",
   "id": "5875fab4-7c2c-4b86-b4c7-8ea453975246",
   "metadata": {},
   "source": [
    "View the available in-memory tables on the CAS server."
   ]
  },
  {
   "cell_type": "code",
   "execution_count": null,
   "id": "34644665-d76e-45dd-9957-0fed58f5582d",
   "metadata": {},
   "outputs": [],
   "source": [
    "conn.tableInfo(caslib = ds_caslib)"
   ]
  },
  {
   "cell_type": "markdown",
   "id": "46dc7128-c161-4cae-8dea-975c275b4ef3",
   "metadata": {},
   "source": [
    "### b. Explore the CAS Table"
   ]
  },
  {
   "cell_type": "markdown",
   "id": "90576821-08e8-459a-a2ae-9a299f71971e",
   "metadata": {},
   "source": [
    "Reference the CAS table."
   ]
  },
  {
   "cell_type": "code",
   "execution_count": null,
   "id": "88272a6d-76b9-4923-80ab-f0fd8ebaedb4",
   "metadata": {},
   "outputs": [],
   "source": [
    "claims_bad = conn.CASTable('tsa_claims_bad', caslib = ds_caslib)\n",
    "claims_bad"
   ]
  },
  {
   "cell_type": "markdown",
   "id": "8acab4d8-9820-41f9-a35b-cbc4277c0f5a",
   "metadata": {},
   "source": [
    "View the object type."
   ]
  },
  {
   "cell_type": "code",
   "execution_count": null,
   "id": "6e2cb331-236c-420b-b5e0-be69a068b98f",
   "metadata": {},
   "outputs": [],
   "source": [
    "type(claims_bad)"
   ]
  },
  {
   "cell_type": "markdown",
   "id": "84d7a154-db78-4029-8fc9-c634f5b0e3c1",
   "metadata": {},
   "source": [
    "View the attributes of the CAS table."
   ]
  },
  {
   "cell_type": "code",
   "execution_count": null,
   "id": "5486e63f-b5cc-48ef-9f7d-ac641722f684",
   "metadata": {},
   "outputs": [],
   "source": [
    "claims_bad.shape"
   ]
  },
  {
   "cell_type": "markdown",
   "id": "7a687fee-0a6a-4771-9553-28148d28d342",
   "metadata": {},
   "source": [
    "View details about the CAS table."
   ]
  },
  {
   "cell_type": "code",
   "execution_count": null,
   "id": "4a463741-b20b-4e6b-b091-26eea0666eeb",
   "metadata": {},
   "outputs": [],
   "source": [
    "claims_bad.tableDetails()"
   ]
  },
  {
   "cell_type": "markdown",
   "id": "2d126f0d-b703-4c2d-8045-2469db97dcad",
   "metadata": {},
   "source": [
    "Print information about the CAS table."
   ]
  },
  {
   "cell_type": "code",
   "execution_count": null,
   "id": "341a475e-ac9d-458a-9156-ca727260f0df",
   "metadata": {},
   "outputs": [],
   "source": [
    "claims_bad.info(verbose = True)"
   ]
  },
  {
   "cell_type": "markdown",
   "id": "dd1aa7b0-e858-46e0-b737-12aae79aa51e",
   "metadata": {},
   "source": [
    "**NOTE: Claim_Number should not be missing.**"
   ]
  },
  {
   "cell_type": "markdown",
   "id": "1edc1ea0-42de-4955-94ba-a28990ca3953",
   "metadata": {},
   "source": [
    "Why are there missing values in the **Claim_Number** column? View a sample image of the raw CSV file."
   ]
  },
  {
   "cell_type": "code",
   "execution_count": null,
   "id": "dc561360-2f40-41ec-8b57-1995b72aee53",
   "metadata": {},
   "outputs": [],
   "source": [
    "display_image('07_view_sample_CSV_file.png')"
   ]
  },
  {
   "cell_type": "markdown",
   "id": "a6371fb8-41fe-4d49-8283-2fcce15557ff",
   "metadata": {},
   "source": [
    "**NOTE: By default the loadTable action scans the first 20 rows of a CSV file to determine the data types for the columns.**"
   ]
  },
  {
   "cell_type": "markdown",
   "id": "b277e9c5-1509-47c7-9595-239d16665dda",
   "metadata": {},
   "source": [
    "Preview the CAS table."
   ]
  },
  {
   "cell_type": "code",
   "execution_count": null,
   "id": "4520f7e8-b7a8-41db-8457-7b388d4fe0ec",
   "metadata": {},
   "outputs": [],
   "source": [
    "claims_bad.head()"
   ]
  },
  {
   "cell_type": "markdown",
   "id": "2b68bd83-3299-4112-b568-e4c6a26ba450",
   "metadata": {},
   "source": [
    "**NOTE: The Date_Received and Incident_Date columns are SAS date values and need a SAS format.**"
   ]
  },
  {
   "cell_type": "markdown",
   "id": "09ea47f7-3552-4ce7-b613-49d783451bf9",
   "metadata": {},
   "source": [
    "## 5. Reload the CSV File as a CAS Table and Fix the Issues"
   ]
  },
  {
   "cell_type": "code",
   "execution_count": null,
   "id": "eff29068-ec57-4974-a784-3f3928f2906e",
   "metadata": {},
   "outputs": [],
   "source": [
    "conn.loadTable(path = 'tsa_claims_raw.csv', caslib = ds_caslib,              ## Specify the data source file in the caslib\n",
    "               casOut = {'name':'tsa_claims_raw',                            ## Specify the CAS table to create\n",
    "                         'caslib':ds_caslib, \n",
    "                         'replace':True},\n",
    "               importOptions = {'fileType':'csv',                            ## Modify the CSV import options\n",
    "                                'guessRows':220000,                          ## Scan 220,000 rows to determine the column data type\n",
    "                                'vars': {                                    ## Add a SAS format to the Incident_Date, Date_Received and Close_Amount columns\n",
    "                                  'Incident_Date':{'format':'mmddyy10.'},\n",
    "                                  'Date_Received':{'format':'mmddyy10.'},\n",
    "                                  'Close_Amount':{'format':'dollar20.2'}\n",
    "                                }\n",
    "                               }\n",
    "              )"
   ]
  },
  {
   "cell_type": "code",
   "execution_count": null,
   "id": "d9a74a0d-10a1-4048-94c1-2ae768f3332f",
   "metadata": {},
   "outputs": [],
   "source": [
    "conn.tableInfo(caslib = ds_caslib)"
   ]
  },
  {
   "cell_type": "markdown",
   "id": "f34ec402-08c5-4890-aa83-9b0eb5c30730",
   "metadata": {},
   "source": [
    "Reference and preview the new CAS table."
   ]
  },
  {
   "cell_type": "code",
   "execution_count": null,
   "id": "62701436-61da-4c1e-9ad8-4fcab814b1e7",
   "metadata": {},
   "outputs": [],
   "source": [
    "claims_raw = conn.CASTable('tsa_claims_raw', caslib = ds_caslib)\n",
    "claims_raw.head()"
   ]
  },
  {
   "cell_type": "markdown",
   "id": "fdefb854-03b8-4a25-8c0b-691203a55cb3",
   "metadata": {},
   "source": [
    "### a. Explore the CAS Table"
   ]
  },
  {
   "cell_type": "code",
   "execution_count": null,
   "id": "ff14c1b2-66fa-41c4-be8b-99227b9b7f1d",
   "metadata": {},
   "outputs": [],
   "source": [
    "claims_raw.shape"
   ]
  },
  {
   "cell_type": "code",
   "execution_count": null,
   "id": "39d85dc5-151e-4303-9112-6caa8d409199",
   "metadata": {},
   "outputs": [],
   "source": [
    "claims_raw.info(verbose = True)"
   ]
  },
  {
   "cell_type": "code",
   "execution_count": null,
   "id": "7ec11436-9ed7-46e0-9c1c-833ed61a3b75",
   "metadata": {},
   "outputs": [],
   "source": [
    "claims_raw.dtypes"
   ]
  },
  {
   "cell_type": "code",
   "execution_count": null,
   "id": "eaeb65b2-95cd-46f5-86bd-fe95b8d6b429",
   "metadata": {},
   "outputs": [],
   "source": [
    "claims_raw.columnInfo()"
   ]
  },
  {
   "cell_type": "markdown",
   "id": "20c2f29b-ffa5-49ad-b8b1-8f5d1ddf9f4c",
   "metadata": {},
   "source": [
    "## 6. Overview of Common SWAT Package Python Objects"
   ]
  },
  {
   "cell_type": "code",
   "execution_count": null,
   "id": "503cbea2-ffbb-431f-99d3-f60402caf9ba",
   "metadata": {
    "tags": []
   },
   "outputs": [],
   "source": [
    "display_image('08_b_swat_package_objects.png')"
   ]
  },
  {
   "cell_type": "markdown",
   "id": "2362f27b-05ad-4d48-a798-7883b05b2b89",
   "metadata": {
    "jupyter": {
     "source_hidden": true
    },
    "tags": []
   },
   "source": [
    "Because the SWAT package tries to blend the world of Pandas and CAS into a single world, you have to be aware of whether you are calling a CAS action or a Pandas API method from the SWAT package because the objects returned to the client will differ.\n",
    "\n",
    "When you execute Pandas methods from the SWAT package, CAS can return a variety of objects to the client, such as a  CASTable, CASColumn, SASDataFrame, pandas.DataFrame, or pandas.Series.\n",
    "\n",
    "When you execute a CAS action, CAS always returns a CASResults object (Python dictionary) to the Python client. \n"
   ]
  },
  {
   "cell_type": "code",
   "execution_count": null,
   "id": "ec6e9ba2-ba87-4999-9a4c-0e7df010773f",
   "metadata": {},
   "outputs": [],
   "source": [
    "display_image('08_c_swat_package_objects.png')"
   ]
  },
  {
   "cell_type": "markdown",
   "id": "b603081e-356c-4cd8-8873-2e1357402ede",
   "metadata": {
    "jupyter": {
     "source_hidden": true
    },
    "tags": []
   },
   "source": [
    "After using a SWAT method or CAS action, the results are returned to the client. Let's investigate a few of the common client-side objects a bit further.\n",
    "\n",
    "First, if you see a CASTable or CASColumn object, those are simply client-side references to an in-memory table on the CAS server. The physical table is not stored on your client machine. You can think of these objects as simply pointing to a table in CAS. To process a CAS table, you must execute a method or action on the object. The CASTable object is the most important object in the SWAT package other than the CAS connection object.\n",
    "\n",
    "Another common object that you will see is a SASDataFrame. A SASDataFrame object is a subclass to a pandas.DataFrame. For the most part, you don’t need to worry about the difference between a SASDataFrame and a panda.DataFrame. They work the same way. The only difference is that a SASDataFrame contains extra attributes to store the SAS metadata such as title, label, and name. If you see a SASDataFrame object, that data lives on your client.\n",
    "\n",
    "Lastly, there is the CASResults object. This is simply a Python dictionary with additional attributes. You can simply work with the CASResults object as you would a Python dictionary. If you see a CASResults object, that data lives on your client.\n"
   ]
  },
  {
   "cell_type": "markdown",
   "id": "e66cc860-5c7b-4ab7-9972-c844576abad2",
   "metadata": {},
   "source": [
    "### a. CASTable Object"
   ]
  },
  {
   "cell_type": "code",
   "execution_count": null,
   "id": "59269894-0a7d-43b5-8fcf-57005e0cd968",
   "metadata": {},
   "outputs": [],
   "source": [
    "type(claims_raw)"
   ]
  },
  {
   "cell_type": "code",
   "execution_count": null,
   "id": "c0640abc-e412-488a-a5f4-d613443b4f10",
   "metadata": {},
   "outputs": [],
   "source": [
    "claims_raw"
   ]
  },
  {
   "cell_type": "markdown",
   "id": "0f882a1c-0b9e-4ce0-86b7-aea72c6a2292",
   "metadata": {
    "tags": []
   },
   "source": [
    "To process a CAS table you must execute a method or action the CASTable object. The data will be processed on the CAS server and the CAS server will return results to the client."
   ]
  },
  {
   "cell_type": "code",
   "execution_count": null,
   "id": "7e8132c9-28c8-4c1a-b4e7-b0a2904e398d",
   "metadata": {},
   "outputs": [],
   "source": [
    "claims_raw.head()"
   ]
  },
  {
   "cell_type": "markdown",
   "id": "f826c059-7971-4fdc-a3a1-3a1fb4b5dd3f",
   "metadata": {
    "tags": []
   },
   "source": [
    "Some methods will add parameters to the CASTable object. These parameters will be applied when an action or method is executed. Here the query method adds the where parameter to the CASTable object."
   ]
  },
  {
   "cell_type": "code",
   "execution_count": null,
   "id": "4c86d5bb-5c2d-46ff-b043-a315dec1030e",
   "metadata": {},
   "outputs": [],
   "source": [
    "claims_raw.query('Disposition = \"Deny\"')"
   ]
  },
  {
   "cell_type": "markdown",
   "id": "a6271198-a782-4b0f-af65-66f9bec2ca99",
   "metadata": {},
   "source": [
    "You can also use familiar bracket notation to filter a CAS table."
   ]
  },
  {
   "cell_type": "code",
   "execution_count": null,
   "id": "b385c67d-ba58-4c14-b715-fdcf27988ee8",
   "metadata": {},
   "outputs": [],
   "source": [
    "claims_raw[claims_raw['Disposition'] == 'Deny']"
   ]
  },
  {
   "cell_type": "code",
   "execution_count": null,
   "id": "77ad2cfa-7af2-405b-babb-5a0ab86a102a",
   "metadata": {},
   "outputs": [],
   "source": [
    "claims_raw"
   ]
  },
  {
   "cell_type": "markdown",
   "id": "737fdfbb-8e28-4f97-81d5-40986a70fbce",
   "metadata": {},
   "source": [
    "Add the shape attribute after each technique to apply the filter and return results."
   ]
  },
  {
   "cell_type": "code",
   "execution_count": null,
   "id": "53328380-6f73-4ba1-9ccf-ae6e7d00d727",
   "metadata": {},
   "outputs": [],
   "source": [
    "(claims_raw                         ## CAS table\n",
    " .query('Disposition = \"Deny\"')     ## SWAT query method\n",
    " .shape                             ## SWAT shape attribute\n",
    ")"
   ]
  },
  {
   "cell_type": "code",
   "execution_count": null,
   "id": "b33343f9-24cc-447e-8fdd-59932f649d24",
   "metadata": {},
   "outputs": [],
   "source": [
    "claims_raw[claims_raw['Disposition'] == 'Deny'].shape"
   ]
  },
  {
   "cell_type": "markdown",
   "id": "1f5e11e7-b3c0-48d2-8feb-9b2fdb5ad953",
   "metadata": {},
   "source": [
    "View the CASTable object. Notice the where parameter was temporarily added to the CASTable object. Currently the CASTable object simply references the entire CAS table."
   ]
  },
  {
   "cell_type": "code",
   "execution_count": null,
   "id": "c9290208-b264-407d-a5b4-939b1fe3c8b6",
   "metadata": {},
   "outputs": [],
   "source": [
    "claims_raw"
   ]
  },
  {
   "cell_type": "markdown",
   "id": "7ca8a4ee-1b42-4c4d-86e2-ebfe928cae6c",
   "metadata": {},
   "source": [
    "### b. Pandas API Methods from the SWAT Package on a CASTable Object\n",
    "Using Pandas API methods on a CASTable object will return different objects to the client based on the method used from the SWAT package."
   ]
  },
  {
   "cell_type": "markdown",
   "id": "930737b4-fd8a-4eb1-b166-5352534a240f",
   "metadata": {},
   "source": [
    "Turn on the trace options in the SWAT package to see what the CAS server executes when using the Pandas API in the SWAT package."
   ]
  },
  {
   "cell_type": "code",
   "execution_count": null,
   "id": "327346a1-0e2b-42ca-824e-695a3facb203",
   "metadata": {},
   "outputs": [],
   "source": [
    "swat.options.cas.trace_actions = True\n",
    "swat.options.cas.trace_ui_actions = True"
   ]
  },
  {
   "cell_type": "markdown",
   "id": "bb4aea60-83f3-4c2e-bbfe-7ba2a0124fa0",
   "metadata": {},
   "source": [
    "The head method executes on the CAS server and returns a SASDataFrame to the client. "
   ]
  },
  {
   "cell_type": "code",
   "execution_count": null,
   "id": "09e76fa8-3292-4c13-8da9-85d6c54643cc",
   "metadata": {},
   "outputs": [],
   "source": [
    "df = claims_raw.head()\n",
    "\n",
    "display(type(df), df)"
   ]
  },
  {
   "cell_type": "markdown",
   "id": "018f354b-7492-4487-a4da-810975cbaa93",
   "metadata": {},
   "source": [
    "The shape attribute from the SWAT package returns a tuple to the client."
   ]
  },
  {
   "cell_type": "code",
   "execution_count": null,
   "id": "3aca743b-45ef-41ab-b9bb-8403a9e08672",
   "metadata": {},
   "outputs": [],
   "source": [
    "type(claims_raw.shape)"
   ]
  },
  {
   "cell_type": "markdown",
   "id": "f545b6b2-7c8d-4233-977b-55425d4cddea",
   "metadata": {},
   "source": [
    "The value_counts method from the SWAT package returns a Series to the client."
   ]
  },
  {
   "cell_type": "code",
   "execution_count": null,
   "id": "7b4e7fd4-8c58-4547-aaed-4be3748caa0f",
   "metadata": {},
   "outputs": [],
   "source": [
    "vc = (claims_raw         ## CAS table      \n",
    "      .Disposition       ## CAS column\n",
    "      .value_counts())   ## value_counts from the SWAT package\n",
    "\n",
    "display(type(vc), vc)"
   ]
  },
  {
   "cell_type": "markdown",
   "id": "567a0398-dc2d-4dcc-9b28-29d8cd990f1a",
   "metadata": {},
   "source": [
    "Plot the Series using Pandas on the local client."
   ]
  },
  {
   "cell_type": "code",
   "execution_count": null,
   "id": "a9ac47dd-d8b5-4b66-8401-356e17363d44",
   "metadata": {},
   "outputs": [],
   "source": [
    "vc.plot(kind = 'bar', figsize = (10,6));"
   ]
  },
  {
   "cell_type": "markdown",
   "id": "3eb1accf-bc63-4cf9-952e-8fe9f75a63e8",
   "metadata": {},
   "source": [
    "### c. CAS Actions from the SWAT Package on a CASTable Object\n",
    "CAS actions will always return a CASResults object to the client. CASResults objects are simply a Python dictionary with additional methods and attributes."
   ]
  },
  {
   "cell_type": "code",
   "execution_count": null,
   "id": "527bb9ae-6ffc-4d62-b1cb-40ee2778d78d",
   "metadata": {},
   "outputs": [],
   "source": [
    "ci = claims_raw.columnInfo()\n",
    "\n",
    "display(type(ci), ci)"
   ]
  },
  {
   "cell_type": "markdown",
   "id": "a87d755c-b1f3-4b06-8123-c19f7d7b8cc9",
   "metadata": {},
   "source": [
    "Find the keys in the CASResults object."
   ]
  },
  {
   "cell_type": "code",
   "execution_count": null,
   "id": "83db1eb3-807d-4d6d-b957-91c03013fd10",
   "metadata": {},
   "outputs": [],
   "source": [
    "ci.keys()"
   ]
  },
  {
   "cell_type": "markdown",
   "id": "57d642c8-c4be-4098-b67b-ffd52a520d48",
   "metadata": {},
   "source": [
    "Call the *ColumnInfo* key to return the object. Then view the object type from the *ColumnInfo* key."
   ]
  },
  {
   "cell_type": "code",
   "execution_count": null,
   "id": "88f31598-a640-4630-a6c9-d188720e6440",
   "metadata": {},
   "outputs": [],
   "source": [
    "df = ci['ColumnInfo']\n",
    "\n",
    "display(type(df), df)"
   ]
  },
  {
   "cell_type": "markdown",
   "id": "7349bf94-e665-47aa-9b2d-0dae40f058a3",
   "metadata": {},
   "source": [
    "SASDataFrames work like pandas DataFrames. Here use traditional Pandas to query the SASDataFrame."
   ]
  },
  {
   "cell_type": "code",
   "execution_count": null,
   "id": "6971d3ca-12eb-4ea5-b10c-01938ad34bec",
   "metadata": {},
   "outputs": [],
   "source": [
    "(df\n",
    " .query(\"Type == 'varchar'\")\n",
    " .loc[:,['Column','Type']]\n",
    ")"
   ]
  },
  {
   "cell_type": "markdown",
   "id": "b893cf23-61c9-48fa-ad53-bebfb93f5b4d",
   "metadata": {},
   "source": [
    "Turn off the tracing options."
   ]
  },
  {
   "cell_type": "code",
   "execution_count": null,
   "id": "d3e3e648-42c5-4463-a915-47998a669768",
   "metadata": {},
   "outputs": [],
   "source": [
    "swat.options.cas.trace_actions = False\n",
    "swat.options.cas.trace_ui_actions = False"
   ]
  },
  {
   "cell_type": "markdown",
   "id": "b404bcac-6e7f-4aab-ad81-095213721e00",
   "metadata": {},
   "source": [
    "## 7. Explore the CAS Table Columns"
   ]
  },
  {
   "cell_type": "markdown",
   "id": "1f280a12-02d8-4ec3-abfa-3c47706a2f54",
   "metadata": {},
   "source": [
    "### a. View the Number of Missing Values in a CAS Table Using the Pandas API in the SWAT Package"
   ]
  },
  {
   "cell_type": "markdown",
   "id": "4a91cded-2095-4c22-bd66-57c8fafbefb8",
   "metadata": {},
   "source": [
    "The SWAT nmiss method returns a Series to the client as expected."
   ]
  },
  {
   "cell_type": "code",
   "execution_count": null,
   "id": "58462d2e-f2aa-442e-8fd3-6f9b0fc62666",
   "metadata": {},
   "outputs": [],
   "source": [
    "nmiss_ser = claims_raw.nmiss()\n",
    "\n",
    "display(type(nmiss_ser), nmiss_ser)"
   ]
  },
  {
   "cell_type": "markdown",
   "id": "22a3c0a0-c939-4975-b0f5-1b5308e21655",
   "metadata": {},
   "source": [
    "Use Pandas on the client to plot the summarized results returned from the CAS server."
   ]
  },
  {
   "cell_type": "code",
   "execution_count": null,
   "id": "aa05085a-3560-4ea7-ab23-e0b245022154",
   "metadata": {},
   "outputs": [],
   "source": [
    "(nmiss_ser                          ## Pandas Series\n",
    " .sort_values(ascending=False)      ## Sort the pandas Series object returned from the CAS server on the client\n",
    " .plot(kind='bar', figsize=(10,6))  ## Plot the Series on the client\n",
    ");"
   ]
  },
  {
   "cell_type": "markdown",
   "id": "a0848017-2073-4c36-bd42-568f2cd27318",
   "metadata": {},
   "source": [
    "### b. View the Distinct Values in a CAS Table Using the Pandas API in the SWAT Package"
   ]
  },
  {
   "cell_type": "code",
   "execution_count": null,
   "id": "68080a05-587e-4e7d-8398-be036dd19889",
   "metadata": {},
   "outputs": [],
   "source": [
    "(claims_raw                ## CAS table \n",
    " .Claim_Type               ## CAS table column\n",
    " .nunique(dropna=False)    ## Use the Pandas API in the SWAT package to find the number of unique values\n",
    ")"
   ]
  },
  {
   "cell_type": "markdown",
   "id": "e07a4d8e-fd5b-45fa-816a-c1ec90ba0f2a",
   "metadata": {},
   "source": [
    "Create a list of the unique values in a CAS table column."
   ]
  },
  {
   "cell_type": "code",
   "execution_count": null,
   "id": "6e53a833-af1d-4f3d-89ae-36dca6f1b7ab",
   "metadata": {},
   "outputs": [],
   "source": [
    "(claims_raw    ## CAS table\n",
    " .Claim_Type   ## CAS table column\n",
    " .unique()     ## Use the Pandas API in the SWAT package to find the unique values in a CAS table column\n",
    " .tolist()     ## Modify the results from the CAS server on the client to create a list of the unique values\n",
    ")"
   ]
  },
  {
   "cell_type": "markdown",
   "id": "cc681b30-47e6-466e-a087-9d45b4696051",
   "metadata": {},
   "source": [
    "### c. View the Number of Distinct and Missing Values Using a CAS Action"
   ]
  },
  {
   "cell_type": "markdown",
   "id": "02bbeaae-ed91-4392-a609-6e9d5ec66847",
   "metadata": {},
   "source": [
    "Execute the distinct CAS action and store the results."
   ]
  },
  {
   "cell_type": "code",
   "execution_count": null,
   "id": "0985645d-1027-475f-88a2-0b9d1b605865",
   "metadata": {},
   "outputs": [],
   "source": [
    "cr = claims_raw.distinct()\n",
    "\n",
    "display(type(cr), cr)"
   ]
  },
  {
   "cell_type": "markdown",
   "id": "c1e12a46-6633-4b83-bb08-3dab40969fa0",
   "metadata": {},
   "source": [
    "Store the SASDataFrame from the distinct action CASResults object and view it's type and value."
   ]
  },
  {
   "cell_type": "code",
   "execution_count": null,
   "id": "7ff598ee-2164-490b-ab7d-36261266eb53",
   "metadata": {},
   "outputs": [],
   "source": [
    "distinct_df = cr['Distinct']\n",
    "\n",
    "display(type(distinct_df), distinct_df)"
   ]
  },
  {
   "cell_type": "markdown",
   "id": "c87e6e58-8388-4e11-8ff3-552d8224716d",
   "metadata": {},
   "source": [
    "Once you have the SASDataFrame, work with it like a Pandas DataFrame. Using traditional Pandas create a column with the percentage of distinct values in each column."
   ]
  },
  {
   "cell_type": "code",
   "execution_count": null,
   "id": "da0b79e0-2d99-47a9-8763-e6922d751c93",
   "metadata": {},
   "outputs": [],
   "source": [
    "## Find the total number of rows in the CAS table using the CAS server\n",
    "numRows = claims_raw.shape[0]\n",
    "\n",
    "## Use Pandas on the client to create a column and plot the values\n",
    "(distinct_df\n",
    " .assign(pctDistinct = distinct_df['NDistinct'] / numRows)\n",
    " .sort_values('pctDistinct', ascending=False)                         \n",
    ")"
   ]
  },
  {
   "cell_type": "markdown",
   "id": "209101e3-836e-49ab-ad18-8c13039b01d0",
   "metadata": {},
   "source": [
    "### d. Explore Categorical Columns"
   ]
  },
  {
   "cell_type": "markdown",
   "id": "3983a0ac-c309-4112-af02-69e71f9d890f",
   "metadata": {},
   "source": [
    "#### Use the value_counts Pandas API Method from the SWAT Package"
   ]
  },
  {
   "cell_type": "markdown",
   "id": "fe8de8f3-ee7c-49f2-882d-800a3e7bfbce",
   "metadata": {},
   "source": [
    "View the frequency values in the **Claim_Site** column."
   ]
  },
  {
   "cell_type": "code",
   "execution_count": null,
   "id": "bc4bc2c3-321d-400a-99c4-5323b0b48ba5",
   "metadata": {},
   "outputs": [],
   "source": [
    "sites_ser = (claims_raw                                         ## CAS table \n",
    "             .Claim_Site                                        ## CAS table column\n",
    "             .value_counts(normalize = True, dropna = False)    ## SWAT method Pandas API to process the data in CAS. The CAS server then returns a Series to the client\n",
    "             )\n",
    "\n",
    "sites_ser"
   ]
  },
  {
   "cell_type": "markdown",
   "id": "4e7e6ef3-6b6b-4ab3-bb9b-e300039e6ba8",
   "metadata": {},
   "source": [
    "Use Pandas to visualize the Series returned from the CAS server."
   ]
  },
  {
   "cell_type": "code",
   "execution_count": null,
   "id": "e93b5f6e-646a-44a3-bf04-74d5ce574d4e",
   "metadata": {},
   "outputs": [],
   "source": [
    "sites_ser.plot(kind='bar', figsize=(10,6));"
   ]
  },
  {
   "cell_type": "markdown",
   "id": "e73af57f-e106-42e2-97bc-a03d546bd483",
   "metadata": {},
   "source": [
    "#### Use CAS Actions to Explore Categorical Columns\n",
    "You can also use CAS actions to achieve similar results."
   ]
  },
  {
   "cell_type": "markdown",
   "id": "200f8245-e453-4e4a-8b11-1866a192589d",
   "metadata": {},
   "source": [
    "##### simple.freq action"
   ]
  },
  {
   "cell_type": "code",
   "execution_count": null,
   "id": "02e9d6bf-57d9-4507-b0bb-54fd5f02d2de",
   "metadata": {},
   "outputs": [],
   "source": [
    "## Columns to analyze\n",
    "colNames = ['Claim_Type', 'Claim_Site', 'Disposition', 'StateName', 'State']\n",
    "\n",
    "## The freq action generates a frequency distribution for one or more columns\n",
    "cr = claims_raw.freq(inputs = colNames, \n",
    "                     includeMissing = True)\n",
    "\n",
    "## Display the results\n",
    "display(type(cr), cr)"
   ]
  },
  {
   "cell_type": "markdown",
   "id": "586be1fc-a36d-411d-8a23-0f43f4444ca2",
   "metadata": {},
   "source": [
    "Access the SASDataFrame in the CASResults object."
   ]
  },
  {
   "cell_type": "code",
   "execution_count": null,
   "id": "8df9a17b-a94a-4a44-988b-1e1a8d660e8f",
   "metadata": {},
   "outputs": [],
   "source": [
    "freq_df = cr['Frequency']\n",
    "freq_df.head(50)"
   ]
  },
  {
   "cell_type": "markdown",
   "id": "4b48a587-f1fa-4bcb-bf94-f2c4059a13f1",
   "metadata": {},
   "source": [
    "##### freqTab.freqTab action"
   ]
  },
  {
   "cell_type": "markdown",
   "id": "59177736-028e-40b5-905d-2dda48b5bbb9",
   "metadata": {},
   "source": [
    "Load a CAS action set."
   ]
  },
  {
   "cell_type": "code",
   "execution_count": null,
   "id": "50601901-ae9b-47e0-90b4-82b5ce788f70",
   "metadata": {},
   "outputs": [],
   "source": [
    "conn.loadActionSet('freqTab')"
   ]
  },
  {
   "cell_type": "markdown",
   "id": "dae0671f-cb7f-4a24-a44f-8a53e9465bc0",
   "metadata": {},
   "source": [
    "Execute the freqTab action for a one way frequency of each column specified."
   ]
  },
  {
   "cell_type": "code",
   "execution_count": null,
   "id": "8130d1bb-3b59-4c01-98a7-5bda2713f077",
   "metadata": {},
   "outputs": [],
   "source": [
    "cr = claims_raw.freqTab(tabulate = colNames, \n",
    "                        order = 'FREQ',\n",
    "                        includeMissing = True)\n",
    "cr"
   ]
  },
  {
   "cell_type": "markdown",
   "id": "86e032b4-4631-422b-bf4e-e32e13f32880",
   "metadata": {},
   "source": [
    "View the keys in the CASResults object from the freqTab CAS action."
   ]
  },
  {
   "cell_type": "code",
   "execution_count": null,
   "id": "92b07af7-b2ae-4daa-81d4-f1c40057087a",
   "metadata": {},
   "outputs": [],
   "source": [
    "cr.keys()"
   ]
  },
  {
   "cell_type": "markdown",
   "id": "d0ac32e2-d6c6-48d1-893e-6733bf6992ff",
   "metadata": {},
   "source": [
    "Plot the **Claim_Type** one way frequency table using Pandas."
   ]
  },
  {
   "cell_type": "code",
   "execution_count": null,
   "id": "87d4f287-509a-4595-bdf8-a05dba80fea5",
   "metadata": {},
   "outputs": [],
   "source": [
    "(cr['Table1.OneWayFreqs']                                                   ## SASDataFrame\n",
    " .sort_values('Percent', ascending = False)                                 ## Pandas sort_values\n",
    " .plot(kind = 'bar', x = 'Claim_Type', y = 'Percent', figsize = (10,6))     ## Pandas plot\n",
    ");"
   ]
  },
  {
   "cell_type": "markdown",
   "id": "a984d1d5-ee9c-4ab3-823b-bcb667e57855",
   "metadata": {},
   "source": [
    "Explore the years of the **Date_Received** and **Incident_Date** values to determine the accuracy of the raw data. Use the CASColumn.dt to access the values of a CAS table column as datetime-like properties."
   ]
  },
  {
   "cell_type": "code",
   "execution_count": null,
   "id": "9f0c7301-eaf1-4770-99ed-520ca7d433f5",
   "metadata": {},
   "outputs": [],
   "source": [
    "(claims_raw                    ## CAS table     \n",
    " .Date_Received                ## CAS column\n",
    " .dt                           ## Access datetime column methods in the SWAT package\n",
    " .year                         ## Get the year of the date value\n",
    " .value_counts(dropna=False)   ## Use the SWAT package value_counts Pandas API method to return a Series to the client\n",
    " .sort_index()                 ## Sort the Pandas Series index\n",
    ")"
   ]
  },
  {
   "cell_type": "code",
   "execution_count": null,
   "id": "51cd0d48-d3d2-47df-9ef6-489787140509",
   "metadata": {},
   "outputs": [],
   "source": [
    "(claims_raw                    ## CAS table     \n",
    " .Incident_Date                ## CAS column\n",
    " .dt                           ## Access datetime column methods in the SWAT package\n",
    " .year                         ## Get the year of the date value\n",
    " .value_counts(dropna=False)   ## Use the SWAT package value_counts Pandas API method to return a Series to the client\n",
    " .sort_index()                 ## Sort the Pandas Series index\n",
    ")"
   ]
  },
  {
   "cell_type": "markdown",
   "id": "81fa437b-2413-41ad-b363-674d4568248c",
   "metadata": {},
   "source": [
    "## 8. Explore Numeric Columns"
   ]
  },
  {
   "cell_type": "markdown",
   "id": "97a1a233-547a-4622-982e-6173c20f867f",
   "metadata": {},
   "source": [
    "### a. Descriptive Statistics Using the Pandas API in the SWAT Package"
   ]
  },
  {
   "cell_type": "code",
   "execution_count": null,
   "id": "edff861f-a609-4a0b-a5cb-7918a695b791",
   "metadata": {},
   "outputs": [],
   "source": [
    "claims_raw.describe()"
   ]
  },
  {
   "cell_type": "markdown",
   "id": "bbbea089-a538-4ff6-bc0b-1bcab4205a0e",
   "metadata": {},
   "source": [
    "Create new numeric columns in the CAS table to explore."
   ]
  },
  {
   "cell_type": "code",
   "execution_count": null,
   "id": "645ade54-d20c-49e6-9fd9-9fddcbfc64ab",
   "metadata": {},
   "outputs": [],
   "source": [
    "## Difference of days between the incident date and the date the claim was filed\n",
    "claims_raw.eval('DateDiff =  Date_Received - Incident_Date')\n",
    "\n",
    "## Create a column that pulls the year of Incident_Date\n",
    "claims_raw.eval('Incident_Year = year(Incident_Date)')\n",
    "\n",
    "## Create a column that pulls the year of Date_Received\n",
    "claims_raw.eval('Received_Year = year(Date_Received)')"
   ]
  },
  {
   "cell_type": "markdown",
   "id": "4bb31432-32ba-47fc-9550-67fe33c43746",
   "metadata": {},
   "source": [
    "The eval method adds a variety of parameters to the CASTable object to create the calculated columns. The columns are created when an action or method is executed on the CASTable object."
   ]
  },
  {
   "cell_type": "code",
   "execution_count": null,
   "id": "39f5c0d2-ddaf-45e8-a9ba-86e6d228e25a",
   "metadata": {},
   "outputs": [],
   "source": [
    "claims_raw"
   ]
  },
  {
   "cell_type": "code",
   "execution_count": null,
   "id": "00c9f62c-f827-421c-a997-9e0864597667",
   "metadata": {},
   "outputs": [],
   "source": [
    "claims_raw.params"
   ]
  },
  {
   "cell_type": "code",
   "execution_count": null,
   "id": "0bf9a5f5-fcf1-49f5-9691-f250d7d00be3",
   "metadata": {},
   "outputs": [],
   "source": [
    "claims_raw.head()"
   ]
  },
  {
   "cell_type": "markdown",
   "id": "15a2e596-410d-4e78-80ee-5517fe654be7",
   "metadata": {},
   "source": [
    "View descriptive statistics of the calculated columns."
   ]
  },
  {
   "cell_type": "code",
   "execution_count": null,
   "id": "bffd189c-02a7-4e8c-b0f3-66807e0bb4e9",
   "metadata": {},
   "outputs": [],
   "source": [
    "colNames = ['DateDiff','Incident_Year', 'Received_Year']\n",
    "\n",
    "claims_raw[colNames].describe()"
   ]
  },
  {
   "cell_type": "markdown",
   "id": "140859e4-9bdd-4076-9a06-421c2d383c75",
   "metadata": {},
   "source": [
    "**NOTE: Notice the following:**\n",
    "- The minimum **DateDiff** value is -1,826 and the maximum is 365,229\n",
    "- The minimum **Incident_Year** value is 1996 and the maximum is 2018\n",
    "- The maximum **Received_Year** value is 3005"
   ]
  },
  {
   "cell_type": "markdown",
   "id": "ca51c08c-5edf-40be-b40a-612eb6b154db",
   "metadata": {},
   "source": [
    "### b. Descriptive Statistics Using CAS Actions"
   ]
  },
  {
   "cell_type": "markdown",
   "id": "32622cf8-2a4d-4af8-a488-284cb7258774",
   "metadata": {},
   "source": [
    "The claims_raw CASTable object still contains the additional parameters to create the new columns."
   ]
  },
  {
   "cell_type": "code",
   "execution_count": null,
   "id": "41b70079-c983-4f6f-8976-3293c9e408a7",
   "metadata": {},
   "outputs": [],
   "source": [
    "claims_raw"
   ]
  },
  {
   "cell_type": "markdown",
   "id": "1a62f6c5-daee-4804-9ce6-7fb53de7af97",
   "metadata": {},
   "source": [
    "Use the summary action to view descriptive statistics of the calculated columns."
   ]
  },
  {
   "cell_type": "code",
   "execution_count": null,
   "id": "589dea27-3d8f-4428-8de7-1ab50ac4450f",
   "metadata": {},
   "outputs": [],
   "source": [
    "claims_raw.summary(inputs = colNames, \n",
    "                   subSet = ['MIN','MAX','N','NMISS'])"
   ]
  },
  {
   "cell_type": "markdown",
   "id": "b9edaf43-b8d0-40ae-8369-efa74050db4e",
   "metadata": {},
   "source": [
    "## 9. Remove Duplicate Rows"
   ]
  },
  {
   "cell_type": "code",
   "execution_count": null,
   "id": "43d35869-fed9-4378-a0b9-f81781a9eacc",
   "metadata": {},
   "outputs": [],
   "source": [
    "conn.loadActionSet('deduplication')"
   ]
  },
  {
   "cell_type": "code",
   "execution_count": null,
   "id": "b19629cb-7099-49e1-a5d9-161898ea3066",
   "metadata": {},
   "outputs": [],
   "source": [
    "claims_dups = conn.CASTable('tsa_claims_raw', caslib = ds_caslib)\n",
    "claims_dups"
   ]
  },
  {
   "cell_type": "markdown",
   "id": "7b20a765-dc87-4cef-b9d0-2a9b1f68a9a0",
   "metadata": {},
   "source": [
    "Get a list of all column names."
   ]
  },
  {
   "cell_type": "code",
   "execution_count": null,
   "id": "1779beca-a061-4b92-a4dd-fd6cb8f1cd74",
   "metadata": {},
   "outputs": [],
   "source": [
    "colNames = claims_dups.columns.to_list()\n",
    "colNames"
   ]
  },
  {
   "cell_type": "markdown",
   "id": "ae7d4395-58b6-4953-86f4-50b89ae612e0",
   "metadata": {},
   "source": [
    "Add the groupby parameter to the CASTable object to determine which columns to use to find duplicate rows. Here will are looking for rows that are exactly the same by specifying all columns in the groupby parameter."
   ]
  },
  {
   "cell_type": "code",
   "execution_count": null,
   "id": "6958a202-46fc-4184-a0b4-562333dfb796",
   "metadata": {},
   "outputs": [],
   "source": [
    "claims_dups.groupby = colNames\n",
    "claims_dups.params"
   ]
  },
  {
   "cell_type": "markdown",
   "id": "a54b7d94-6ae8-4f2f-b482-f492e7dca470",
   "metadata": {},
   "source": [
    "Use the deduplicate CAS action to remove entirely duplicate rows from the CAS table. "
   ]
  },
  {
   "cell_type": "code",
   "execution_count": null,
   "id": "bbd76f9a-55da-4f55-9392-1e9dfa93d458",
   "metadata": {},
   "outputs": [],
   "source": [
    "claims_dups.deduplicate(casOut = 'claims_no_dup',             ## CAS table with no duplciate rows\n",
    "                        duplicateOut = 'duplicate_claims',    ## CAS table with extra duplicate rows\n",
    "                        noDupKey = True)                      ## When set to True, eliminates rows that have duplicate group-by variable values."
   ]
  },
  {
   "cell_type": "code",
   "execution_count": null,
   "id": "3c798c06-fdf5-40f6-b068-c1a5c89e1a7a",
   "metadata": {},
   "outputs": [],
   "source": [
    "conn.tableInfo(caslib = ds_caslib)"
   ]
  },
  {
   "cell_type": "markdown",
   "id": "4cd7f347-7500-4633-93c3-d41f520acafb",
   "metadata": {},
   "source": [
    "## 10. Create The Final CAS Table\n",
    "\n",
    "**REQUIREMENTS:**\n",
    "1. **State**\n",
    "    - Values should be in upper case\n",
    "2. **StateName**\n",
    "    - Values should be in proper case\n",
    "3. **Claim_Site** \n",
    "    - Change missing values, *Not Provided* and \"-\" to *Unknown*\n",
    "4. **Disposition**\n",
    "    - Change missing values, *Not Provided* and \"-\" to *Unknown*\n",
    "    - Change the *Closed: Canceled* and *losed: Contractor Claim* values to *Closed:Contractor Claim*.\n",
    "4. **Claim_Type**\n",
    "    - Change missing values, *Not Provided* and \"-\" to *Unknown*.\n",
    "    - Fix typos in the raw values\n",
    "    - Change *Passenger Property Loss/Injury* and *Property Loss* values to *Passenger Property Loss*.\n",
    "    - Change *Property Damage/Personal Injury* values to *Property Damage*.\n",
    "5. Create a new column named **Date_Issues** with a value of *Needs Review* to indicate that a row has a date issue. Date issues consist of the following:\n",
    "    - a missing value for **Incident_Date** or **Date_Received**\n",
    "    - an **Incident_Date** or **Date_Received** value out of the predefined year range of *2002* through *2017*\n",
    "    - an **Incident_Date** value that occurs after the **Date_Received** value\n",
    "6. Create the **DateDiff** column to identify how long the claim took to be received:\n",
    "    - Formula: **Date_Received** - **Incident_Date**\n",
    "7. Create the **Incident_Year** and **Received_Year** columns"
   ]
  },
  {
   "cell_type": "markdown",
   "id": "6e541402-ff7f-4f9d-a5b9-f85ed2b473b2",
   "metadata": {},
   "source": [
    "Reference the deduplicated CAS table."
   ]
  },
  {
   "cell_type": "code",
   "execution_count": null,
   "id": "543e3251-1ad4-4e02-857f-b8cc6b5f8f57",
   "metadata": {},
   "outputs": [],
   "source": [
    "claims_prep = conn.CASTable('CLAIMS_NO_DUP', caslib=ds_caslib)\n",
    "claims_prep"
   ]
  },
  {
   "cell_type": "code",
   "execution_count": null,
   "id": "cf60fe31-02a3-4afe-807d-0c3b934709d6",
   "metadata": {},
   "outputs": [],
   "source": [
    "claims_prep.head()"
   ]
  },
  {
   "cell_type": "markdown",
   "id": "6a64ef6a-24de-4ace-a1a9-e57147e37a61",
   "metadata": {},
   "source": [
    "### a. Update Rows in the CAS Table\n",
    "- Modifying columns using this method requires using [SAS functions](https://go.documentation.sas.com/doc/en/pgmsascdc/v_029/lefunctionsref/titlepage.htm).\n",
    "- You cannot update rows in place and create calculated columns in the same step.\n"
   ]
  },
  {
   "cell_type": "code",
   "execution_count": null,
   "id": "7ee137d3-5cb8-41d7-983d-69bfcb8ffc82",
   "metadata": {},
   "outputs": [],
   "source": [
    "##\n",
    "## UPDATE COLUMNS\n",
    "##\n",
    "\n",
    "\n",
    "## State\n",
    "upcaseState = 'upcase(State)'\n",
    "\n",
    "\n",
    "## StateName\n",
    "propcaseStateName = 'propcase(StateName)'\n",
    "\n",
    "\n",
    "## Claim_Site\n",
    "fixClaim_Site = '''ifc(Claim_Site in ('-','','Not Provided'),\n",
    "                       'Unknown',\n",
    "                        Claim_Site)'''\n",
    "\n",
    "## Disposition\n",
    "fixDisposition = '''ifc(Disposition in ('-','','Not Provided'), 'Unknown',\n",
    "                    ifc(Disposition = 'Closed: Canceled', 'Closed:Canceled',\n",
    "                    ifc(Disposition = 'losed: Contractor Claim', 'Closed:Contractor Claim',\n",
    "                        Disposition)))\n",
    "                    '''\n",
    "\n",
    "## Claim_Type\n",
    "fixClaim_Type = '''ifc(Claim_Type in ('-','','Not Provided'), 'Unknown',\n",
    "                   ifc(Claim_Type in ('Passenger Property Loss/Personal Injur','Passenger Property Loss/Personal Injury','Property Loss'), 'Passenger Property Loss',\n",
    "                   ifc(Claim_Type = 'Property Damage/Personal Injury', 'Property Damage',\n",
    "                       Claim_Type)))\n",
    "                '''\n",
    "\n",
    "\n",
    "## Use the update action to update rows in a CAS table\n",
    "(claims_prep\n",
    " .update(set = [\n",
    "            {'var':'State', 'value':upcaseState},\n",
    "            {'var':'StateName', 'value':propcaseStateName},\n",
    "            {'var':'Claim_Site', 'value':fixClaim_Site},\n",
    "            {'var':'Disposition', 'value':fixDisposition},\n",
    "            {'var':'Claim_Type', 'value':fixClaim_Type}\n",
    "         ])\n",
    ")"
   ]
  },
  {
   "cell_type": "markdown",
   "id": "e3faaf10-f5be-4169-9fe6-10411b37accb",
   "metadata": {},
   "source": [
    "Check the unique values of the updated columns to confirm they were updated correctly."
   ]
  },
  {
   "cell_type": "code",
   "execution_count": null,
   "id": "186e30d4-5b69-4770-8ba1-34b5cad16a81",
   "metadata": {},
   "outputs": [],
   "source": [
    "colNames = ['State', 'StateName', 'Claim_Site', 'Disposition', 'Claim_Type']\n",
    "\n",
    "## View the unique values in the updated columns\n",
    "for col in colNames:\n",
    "    uniqueValues = claims_prep[col].unique()    ## Get unique values from the CAS server and return them to the client\n",
    "    print(f'{col} : {uniqueValues}\\n')"
   ]
  },
  {
   "cell_type": "markdown",
   "id": "55ade409-51b3-437a-b6f8-37eababde0f7",
   "metadata": {},
   "source": [
    "### b. Create the Final CAS Table with the Calculated Columns\n",
    "The eval method creates new columns in a CAS table. You cannot use the eval method to update a column in place. "
   ]
  },
  {
   "cell_type": "code",
   "execution_count": null,
   "id": "a1c0e69e-28ab-4d25-b660-b02ccf864a7f",
   "metadata": {},
   "outputs": [],
   "source": [
    "##\n",
    "## CREATE NEW COLUMNS\n",
    "##\n",
    "\n",
    "## Date_Issues\n",
    "createDateIssues = '''Date_Issues = ifc(Incident_Date > Date_Received or \n",
    "                                        Incident_Date = . or \n",
    "                                        Date_Received = . or \n",
    "                                        Year(Incident_Date) < 2002 or\n",
    "                                        Year(Incident_Date) > 2017 or\n",
    "                                        Year(Date_Received) < 2002 or\n",
    "                                        Year(Date_Received) > 2017,                                     \n",
    "                                    'Needs Review', \n",
    "                                    'Valid Date')'''\n",
    "\n",
    "## DateDiff\n",
    "createDateDiff = \"DateDiff =  Date_Received - Incident_Date\"\n",
    "\n",
    "## Received_Year as a character year\n",
    "createYearReceived = \"Received_Year = year(Date_Received)\"\n",
    "\n",
    "## Year_Claim as a character year\n",
    "createYearClaim = \"Incident_Year = year(Incident_Date)\"\n",
    "\n",
    "\n",
    "##\n",
    "## Create the CAS table\n",
    "##\n",
    "(claims_prep                                      ## Specify the CLAIMS_NO_DUP CAS table\n",
    " .eval(createDateIssues, inplace=False)           ## Create the Date_Issues column. Inplace=False returns a CASTable object\n",
    " .eval(createDateDiff, inplace=False)             ## Create the DateDiff column to find the difference in days between the incident date and date received\n",
    " .eval(createYearReceived, inplace=False)         ## Create a column that indicates the year the claim was received\n",
    " .eval(createYearClaim, inplace=False)            ## Create a column that indicates the year the incident occurred\n",
    " .copyTable(casOut={'name':'tsa_claims_final',    ## Create new CAS table using the CLAIMS_NO_DUP data with the updated data and new calculated columns\n",
    "                    'caslib':ds_caslib, \n",
    "                    'replace':True})\n",
    ")"
   ]
  },
  {
   "cell_type": "code",
   "execution_count": null,
   "id": "6819cbda-5ce4-41b8-a839-20f7e93c84d4",
   "metadata": {},
   "outputs": [],
   "source": [
    "conn.tableInfo(caslib = ds_caslib)"
   ]
  },
  {
   "cell_type": "markdown",
   "id": "177bb130-1022-46ba-9314-ab89f883573b",
   "metadata": {},
   "source": [
    "Preview the new CAS table."
   ]
  },
  {
   "cell_type": "code",
   "execution_count": null,
   "id": "2cb0c9b3-0ae1-433a-8096-abcbc435b6bf",
   "metadata": {},
   "outputs": [],
   "source": [
    "claims_final = conn.CASTable('tsa_claims_final', caslib = ds_caslib)\n",
    "claims_final.head()"
   ]
  },
  {
   "cell_type": "markdown",
   "id": "504576bc-585b-467f-aff0-10beb8403877",
   "metadata": {},
   "source": [
    "Confirm the valid date rows by viewing the unique values in the received and incident years."
   ]
  },
  {
   "cell_type": "code",
   "execution_count": null,
   "id": "fce7f837-9e30-475a-be3e-e1dc587cffe0",
   "metadata": {},
   "outputs": [],
   "source": [
    "## View the unique values in the year columns\n",
    "colNames = ['Received_Year','Incident_Year']\n",
    "\n",
    "for col in colNames:\n",
    "    uniqueYears = (claims_final                            ## Specify the CAS table\n",
    "                   .query('Date_Issues = \"Valid Date\"')    ## Query rows in the CAS table\n",
    "                   .loc[:,col]                             ## Select the CAS table column\n",
    "                   .unique()                               ## Return unique values of the CAS table column to the client\n",
    "                   .tolist())                              ## Create a list of the returned values\n",
    "    print(f'{col}:{uniqueYears}\\n')"
   ]
  },
  {
   "cell_type": "markdown",
   "id": "ccaec99c-f1ac-4e1d-9743-e63495db9a17",
   "metadata": {},
   "source": [
    "## 11. Analyzing Data\n",
    "**NOTE: Expand the cells below the question to view a solution.**"
   ]
  },
  {
   "cell_type": "code",
   "execution_count": null,
   "id": "fe43b41c-642e-4bd0-90ae-809cf831ea87",
   "metadata": {},
   "outputs": [],
   "source": [
    "claims_final"
   ]
  },
  {
   "cell_type": "markdown",
   "id": "45206f07-4c8f-42d6-bb80-dd042e109f87",
   "metadata": {},
   "source": [
    "Where did the claim occur with the max **Close_Amount** value of $250,000?"
   ]
  },
  {
   "cell_type": "code",
   "execution_count": null,
   "id": "ebffa5fa-c509-42bd-9187-abfbb0ef8a79",
   "metadata": {},
   "outputs": [],
   "source": []
  },
  {
   "cell_type": "code",
   "execution_count": null,
   "id": "cf332daf-21ff-40df-bdb0-aba8a941062a",
   "metadata": {
    "jupyter": {
     "source_hidden": true
    },
    "tags": []
   },
   "outputs": [],
   "source": [
    "## Find the max Close_Amount\n",
    "maxCloseAmt = (claims_final    ## CAS table\n",
    "               .Close_Amount   ## CAS table column\n",
    "               .max()          ## max method\n",
    "              )\n",
    "\n",
    "## View the row with the max Close_Amount\n",
    "(claims_final                               ## CAS table\n",
    " .query(f'Close_Amount = {maxCloseAmt}')    ## Filter the CAS table\n",
    " .head()                                    ## Get a SASDataFrame on the client\n",
    ")"
   ]
  },
  {
   "cell_type": "markdown",
   "id": "f8efa5df-52fa-44d2-ac78-435c9db94f11",
   "metadata": {},
   "source": [
    "What airports did the *Wrongful Death* claim types occur?"
   ]
  },
  {
   "cell_type": "code",
   "execution_count": null,
   "id": "c321ce6b-d191-4e35-9994-a53146b4820a",
   "metadata": {},
   "outputs": [],
   "source": []
  },
  {
   "cell_type": "code",
   "execution_count": null,
   "id": "add43de1-0162-4506-b299-9432b6325b37",
   "metadata": {
    "jupyter": {
     "source_hidden": true
    },
    "tags": []
   },
   "outputs": [],
   "source": [
    "(claims_final                                ## CAS table\n",
    " .query('Claim_Type = \"Wrongful Death\"')     ## Filter the CAS table\n",
    " .head()                                     ## Return a SASDataFrame to the client\n",
    ")"
   ]
  },
  {
   "cell_type": "markdown",
   "id": "b46959f1-2930-42fa-badd-78b4694678e1",
   "metadata": {},
   "source": [
    "How many claims had **Date_Issues**?"
   ]
  },
  {
   "cell_type": "code",
   "execution_count": null,
   "id": "06814a95-db69-431d-b5b2-c1329a7b996b",
   "metadata": {},
   "outputs": [],
   "source": []
  },
  {
   "cell_type": "code",
   "execution_count": null,
   "id": "b5574602-88f1-4bbc-ad61-38da731c5b62",
   "metadata": {
    "jupyter": {
     "source_hidden": true
    },
    "tags": []
   },
   "outputs": [],
   "source": [
    "(claims_final       ## CAS table\n",
    " .Date_issues       ## CAS column\n",
    " .value_counts()    ## SWAT value counts method\n",
    ")"
   ]
  },
  {
   "cell_type": "markdown",
   "id": "3fd1344e-5b4c-48c0-bc87-720e1c385fb8",
   "metadata": {},
   "source": [
    "Create a bar chart of how many incidents occurred in each year for claims with valid dates?\n",
    "\n",
    "**HINT: Use the Incident_Year column**"
   ]
  },
  {
   "cell_type": "code",
   "execution_count": null,
   "id": "6d83d461-b4dd-4c6b-b7bc-84b480a1ccd0",
   "metadata": {},
   "outputs": [],
   "source": []
  },
  {
   "cell_type": "code",
   "execution_count": null,
   "id": "878405d6-ad3c-4405-b8e2-1e415b420233",
   "metadata": {
    "jupyter": {
     "source_hidden": true
    },
    "tags": []
   },
   "outputs": [],
   "source": [
    "(claims_final                             ## CAS table \n",
    " .query('Date_Issues = \"Valid Date\"')     ## Query the CAS table\n",
    " .Incident_Year                           ## Specify the CAS column\n",
    " .value_counts()                          ## Use the value_counts SWAT method to process the data in CAS\n",
    " .sort_index()                            ## Sort the Series returned from the CAS server on the client\n",
    " .plot(kind='bar', figsize = (10,6))      ## Plot the Pandas Series using Pandas\n",
    ");"
   ]
  },
  {
   "cell_type": "markdown",
   "id": "393a8f67-c172-4bb0-a146-d98a7a8e6451",
   "metadata": {},
   "source": [
    "What is the total **Close_Amount** for claims *approved in full* by each **Claim_Site** sorted in descending order?\n",
    "\n",
    "**HINT: Use the Pandas API groupby method from the SWAT package**"
   ]
  },
  {
   "cell_type": "code",
   "execution_count": null,
   "id": "68ea585b-9d56-4c9e-9e69-b67c51adbe41",
   "metadata": {},
   "outputs": [],
   "source": []
  },
  {
   "cell_type": "code",
   "execution_count": null,
   "id": "8f6ae910-a57a-4a94-99a2-bffced11a946",
   "metadata": {
    "jupyter": {
     "source_hidden": true
    },
    "tags": []
   },
   "outputs": [],
   "source": [
    "filterBy = 'Approve in Full'\n",
    "\n",
    "(claims_final                                             ## Specify the CAS table\n",
    " .query(f'Disposition = \"{filterBy}\"')                    ## Query the CAS table\n",
    " .groupby('Claim_Site')                                   ## Group the CAS table\n",
    " .loc[:,['Close_Amount']]                                 ## Select the CAS table column\n",
    " .sum()                                                   ## Summarize the CAS table by the group and sum the Close_Amount\n",
    " .sort_values(by = 'Close_Amount', ascending = False)     ## Sort the SASDataFrame returned from the CAS server\n",
    ")"
   ]
  },
  {
   "cell_type": "markdown",
   "id": "2d9ce3cc-f2ff-4ac3-9006-c163bbc21b24",
   "metadata": {},
   "source": [
    "What are the top 10 airports with the total number of claims *In Review*? Use SQL to solve this question.\n",
    "\n",
    "**HINT: Load the fedSQL action set and use the execDirect CAS action**"
   ]
  },
  {
   "cell_type": "code",
   "execution_count": null,
   "id": "feb90c17-ce73-42ed-a74d-fc14afabf395",
   "metadata": {},
   "outputs": [],
   "source": []
  },
  {
   "cell_type": "code",
   "execution_count": null,
   "id": "f28df44e-2d6e-4876-9b34-01c85d8e4212",
   "metadata": {
    "jupyter": {
     "source_hidden": true
    },
    "tags": []
   },
   "outputs": [],
   "source": [
    "##Load the fedSQL action set\n",
    "conn.loadActionSet('fedSQL')\n",
    "\n",
    "## Write your SQL query as a string\n",
    "query_claimsInReviewAmount = '''\n",
    "    select Airport_Name, \n",
    "           count(*) as Total_Claims_In_Review\n",
    "        from casuser.tsa_claims_final\n",
    "        where upcase(Disposition) = 'IN REVIEW'\n",
    "        group by Airport_Name\n",
    "        order by Total_Claims_In_Review desc\n",
    "        limit 10\n",
    "'''\n",
    "\n",
    "## Execute your SQL query in CAS and store the results\n",
    "cr = conn.execDirect(query = query_claimsInReviewAmount)\n",
    "cr"
   ]
  },
  {
   "cell_type": "markdown",
   "id": "0ba1c51b-6daa-45bd-8c96-bfa0c42ff738",
   "metadata": {},
   "source": [
    "## 12. Save the CAS Table as a Data Source File (on disk)\n",
    "Save the CAS table as three different file formats on disk."
   ]
  },
  {
   "cell_type": "code",
   "execution_count": null,
   "id": "43002662-96f2-4274-8f4c-e372c224c107",
   "metadata": {},
   "outputs": [],
   "source": [
    "claims_final"
   ]
  },
  {
   "cell_type": "code",
   "execution_count": null,
   "id": "21740bb1-4930-472b-b74b-14bd46dbf6a8",
   "metadata": {},
   "outputs": [],
   "source": [
    "claims_final.save(name = 'claims_final.csv', caslib = ds_caslib)"
   ]
  },
  {
   "cell_type": "code",
   "execution_count": null,
   "id": "dfa538f4-d17a-4495-9d97-406ca71addb8",
   "metadata": {},
   "outputs": [],
   "source": [
    "claims_final.save(name = 'claims_final.sashdat', caslib = ds_caslib)"
   ]
  },
  {
   "cell_type": "code",
   "execution_count": null,
   "id": "92ae931c-cefe-4019-ae93-6ae31b85cf85",
   "metadata": {},
   "outputs": [],
   "source": [
    "claims_final.save(name = 'claims_final.parquet', caslib = ds_caslib)"
   ]
  },
  {
   "cell_type": "code",
   "execution_count": null,
   "id": "3f50aeb3-9bb1-41af-93df-27fa51547ad9",
   "metadata": {},
   "outputs": [],
   "source": [
    "conn.fileInfo(caslib = ds_caslib)"
   ]
  },
  {
   "cell_type": "markdown",
   "id": "da32487c-d29c-4147-ab22-311938dec718",
   "metadata": {},
   "source": [
    "## 13. Understanding CAS Table Scope"
   ]
  },
  {
   "cell_type": "markdown",
   "id": "3fc6d854-06c8-46e6-bd3f-ef54c385f836",
   "metadata": {},
   "source": [
    "View the **Global** attribute of your available CAS tables."
   ]
  },
  {
   "cell_type": "code",
   "execution_count": null,
   "id": "d238cc35-1dc2-411c-9889-47f702357732",
   "metadata": {},
   "outputs": [],
   "source": [
    "conn.tableInfo(caslib = ds_caslib)"
   ]
  },
  {
   "cell_type": "code",
   "execution_count": null,
   "id": "d27e5fa3-450b-4546-b860-8fc9de7f3997",
   "metadata": {},
   "outputs": [],
   "source": [
    "display_image('09_a_global_session_tables.png')"
   ]
  },
  {
   "cell_type": "markdown",
   "id": "9d7dea9a-7538-47b3-bda9-ed61159d31e7",
   "metadata": {
    "jupyter": {
     "source_hidden": true
    },
    "tags": []
   },
   "source": [
    "The Global attribute indicates the table scope. By default, in-memory tables have the Global attribute set to 0,  which indicates that it's a session-scope table.  A session-scope table is accessible only in the CAS session where it was created,  it's visible only to the user who created it, and it exists only for the duration of the session.  When the CAS session ends, the table is dropped. \n",
    "\n",
    " If you want to share a table with another users or SAS Viya application, you need to promote it. When promoted, the Global attribute is set to 1, indicating that the table has global scope and  is visible across CAS sessions.  If the global-scope table is stored in a caslib that's shared by others, anyone who has access to the global-scope caslib can access the table.  There's only one copy of the table, so the administrator controls user access permissions and locking for concurrent access.   Unlike session-scope tables, global-scope tables aren't dropped from memory when a CAS session ends. The table persists in memory for other sessions, and it will be available in the next CAS session that the user starts.  Lastly, you cannot promote a table to global scope in a session-scope caslib. Remember, a session-scope caslib is disconnected when you terminate your SAS session. Thus, a table cannot be promoted within.\n"
   ]
  },
  {
   "cell_type": "markdown",
   "id": "4f0242ed-f7b7-48df-9448-7d5e7549f31c",
   "metadata": {},
   "source": [
    "Terminate your CAS session."
   ]
  },
  {
   "cell_type": "code",
   "execution_count": null,
   "id": "97de83ce-a674-4a85-813d-f52833e1b675",
   "metadata": {},
   "outputs": [],
   "source": [
    "conn.terminate()"
   ]
  },
  {
   "cell_type": "markdown",
   "id": "c346bcb8-4762-4ccd-b6c9-d1906b9c2025",
   "metadata": {},
   "source": [
    "Reconnect to CAS."
   ]
  },
  {
   "cell_type": "code",
   "execution_count": null,
   "id": "63e32679-b565-4a20-9cd1-4debab9262df",
   "metadata": {},
   "outputs": [],
   "source": [
    "conn = swat.CAS('server.demo.sas.com', 30570, 'student', 'Metadata0')\n",
    "conn"
   ]
  },
  {
   "cell_type": "markdown",
   "id": "f1fc9ef0-d82f-4e2b-ba8f-5c43911d1104",
   "metadata": {},
   "source": [
    "View available CAS tables. Notice that all the CAS tables were cleared from memory."
   ]
  },
  {
   "cell_type": "code",
   "execution_count": null,
   "id": "0b2d6d2d-cd0e-4607-9603-e4cae0e81508",
   "metadata": {},
   "outputs": [],
   "source": [
    "conn.tableInfo(caslib = ds_caslib)"
   ]
  },
  {
   "cell_type": "markdown",
   "id": "55420bc8-db2c-4908-830c-4fa987785277",
   "metadata": {},
   "source": [
    "View available data source files."
   ]
  },
  {
   "cell_type": "code",
   "execution_count": null,
   "id": "344d2f8d-6b35-445b-af6d-4c0055543f90",
   "metadata": {},
   "outputs": [],
   "source": [
    "conn.fileInfo(caslib = ds_caslib)"
   ]
  },
  {
   "cell_type": "markdown",
   "id": "fd73fa22-0b67-484e-9cde-66030dc79733",
   "metadata": {},
   "source": [
    "Load a file into memory as session scope and global scope."
   ]
  },
  {
   "cell_type": "code",
   "execution_count": null,
   "id": "d2f22824-fe93-4438-b3bf-0b0ff7b1b770",
   "metadata": {},
   "outputs": [],
   "source": [
    "## Load a table as session scope\n",
    "conn.loadTable(path='claims_final.parquet', caslib = ds_caslib, \n",
    "               casOut = {'name':'tsa_claims_session_scope',\n",
    "                         'caslib':ds_caslib,\n",
    "                         'replace':True})  \n",
    "\n",
    "## Load a table as global scope\n",
    "conn.loadTable(path='claims_final.parquet', caslib = ds_caslib, \n",
    "               casOut = {'name':'tsa_claims_final',\n",
    "                         'caslib':ds_caslib,\n",
    "                         'promote':True})   ## Promote the CAS table to global scope\n",
    "\n",
    "## View available CAS tables\n",
    "conn.tableInfo()"
   ]
  },
  {
   "cell_type": "markdown",
   "id": "2b951666-06ea-4a1a-97d3-fd6594003610",
   "metadata": {},
   "source": [
    "Terminate the CAS session and reconnect to CAS."
   ]
  },
  {
   "cell_type": "code",
   "execution_count": null,
   "id": "95e0233c-2552-48f0-9316-6bf8d2f925e6",
   "metadata": {},
   "outputs": [],
   "source": [
    "## Terminate the CAS session\n",
    "conn.terminate()\n",
    "\n",
    "## Reconnect to CAS\n",
    "conn = swat.CAS('server.demo.sas.com', 30570, 'student', 'Metadata0')\n",
    "\n",
    "## View all available CAS tables\n",
    "conn.tableInfo(caslib = ds_caslib)"
   ]
  },
  {
   "cell_type": "code",
   "execution_count": null,
   "id": "2db92c95-17cf-451e-8d12-30d57b363097",
   "metadata": {},
   "outputs": [],
   "source": [
    "display_image('09_b_global_session_tables.png')"
   ]
  },
  {
   "cell_type": "markdown",
   "id": "b030340b-7bb8-4bce-a5e3-1a7f16f29da3",
   "metadata": {
    "jupyter": {
     "source_hidden": true
    },
    "tags": []
   },
   "source": [
    "Typically, you will keep a CAS table session scope under these circumstances: \n",
    " You want to load a table for quick ad hoc analysis.\n",
    " You want CAS to automatically delete the CAS table when you disconnect from CAS. This conserves resources by not leaving multiple tables in memory when you don't need them.\n",
    " Lastly, you don't mind loading the table into memory anytime you need it. The larger the table, the longer it takes to load into memory.\n",
    "\n",
    "You will want to promote a table to global scope under these circumstances:\n",
    " You need to share the table with other users, or even other applications like SAS Visual Analytics.\n",
    " You want to avoid loading massive files into memory every time that you need the table.\n",
    " You want teams to work with the same CAS table. Remember, every time that you load a file into memory you make a copy of that file from that data source at that exact moment. If your data source is updating behind the scenes, having each user load a table at different times could cause differing results in analysis.\n"
   ]
  },
  {
   "cell_type": "markdown",
   "id": "4e6874df-195a-46b4-8670-ef6e11ebd698",
   "metadata": {},
   "source": [
    "## 14. Use SAS Visual Analytics to Create a Dashboard\n",
    "\n",
    "Open SAS Visual Analytics and open the TSA_CLAIMS_FINAL CAS table to create a dashboard."
   ]
  },
  {
   "cell_type": "markdown",
   "id": "d3196a86-c9ba-4eb3-820a-3c2b81006ffe",
   "metadata": {},
   "source": [
    "## 15.Terminate the CAS Connection"
   ]
  },
  {
   "cell_type": "markdown",
   "id": "b38eafdb-25d1-4579-96da-8c189e73f8b5",
   "metadata": {},
   "source": [
    "Function to delete the data source files created in this demonstration."
   ]
  },
  {
   "cell_type": "code",
   "execution_count": null,
   "id": "195ebc55-087a-4584-88aa-0240f0db7310",
   "metadata": {},
   "outputs": [],
   "source": [
    "def delete_demo_data():\n",
    "    deleteFiles = ['claims_final.csv','claims_final.sashdat','claims_final.parquet']\n",
    "    deleteTable = 'TSA_CLAIMS_FINAL'\n",
    "    inputResponse = input(prompt=f'Are you sure you want to delete the: {[file.upper() for file in deleteFiles]} data source files and the {deleteTable} CAS table in the {ds_caslib.upper()} permanently (Y/N)?')\n",
    "    if inputResponse.upper() == 'Y':\n",
    "        for table in deleteFiles:\n",
    "            conn.deleteSource(source = table, caslib = ds_caslib, quiet = True)\n",
    "        conn.dropTable(name = deleteTable, caslib = ds_caslib, quiet = True)\n",
    "    else:\n",
    "        print('No files will be deleted.')\n",
    "        \n",
    "delete_demo_data()"
   ]
  },
  {
   "cell_type": "markdown",
   "id": "f5b34492-c1fa-4dae-90ee-ff443babbb41",
   "metadata": {},
   "source": [
    "Confirm everything was deleted."
   ]
  },
  {
   "cell_type": "code",
   "execution_count": null,
   "id": "cd3c3f97-cfdf-464e-b5ce-e0a2b01a3010",
   "metadata": {},
   "outputs": [],
   "source": [
    "display(conn.tableInfo(caslib = ds_caslib), \n",
    "        conn.fileInfo(caslib = ds_caslib))"
   ]
  },
  {
   "cell_type": "markdown",
   "id": "10a4f5cb-df2b-4e0f-a341-93da61495598",
   "metadata": {},
   "source": [
    "Terminate the CAS connection."
   ]
  },
  {
   "cell_type": "code",
   "execution_count": null,
   "id": "34c0fe42-b087-4501-8697-c55dea06426c",
   "metadata": {},
   "outputs": [],
   "source": [
    "conn.terminate()"
   ]
  },
  {
   "cell_type": "markdown",
   "id": "a5facfc3-7247-43f4-a092-135c3fdb871a",
   "metadata": {
    "tags": []
   },
   "source": [
    "# Resources\n",
    "\n",
    "SAS Documentation \n",
    "- [SAS® Cloud Analytic Services: Fundamentals](https://go.documentation.sas.com/doc/en/pgmsascdc/v_028/casfun/titlepage.htm)\n",
    "- [SWAT Package](https://sassoftware.github.io/python-swat/getting-started.html)\n",
    "- [CAS Actions](https://go.documentation.sas.com/doc/en/pgmsascdc/v_028/pgmsassyntaxwlcm/home.htm)\n",
    "\n",
    "SAS Courses \n",
    "- [SAS® Viya® and Python Integration Fundamentals](https://support.sas.com/edu/schedules.html?crs=PIVY&ctry=US) \n",
    "- [SAS® Viya® and Python Integration for Machine Learning](https://support.sas.com/edu/schedules.html?crs=POSI34&ctry=US)\n",
    "- [High-Performance Data Processing with CASL in SAS® Viya®](https://support.sas.com/edu/schedules.html?crs=CASL&ctry=US)\n",
    "\n",
    "Blog Series \n",
    "- [Getting Started with Python Integration to SAS® Viya®](https://blogs.sas.com/content/sgf/2020/06/19/getting-started-with-python-integration-to-sas-viya-index/) \n",
    "- [CAS Action! - a series on fundamentals](https://blogs.sas.com/content/sgf/2021/08/06/cas-action-a-series-on-fundamentals/)\n",
    "\n",
    "Additional Resources\n",
    "- Free Webinar - [Ask the Expert Webinar - How Do I Use Python in SAS® Viya®?](https://www.sas.com/en_us/webinars/use-python-in-sas-viya.html)\n",
    "- YouTube Tutorial - [SAS Tutorial | Python Integration with SAS Viya](https://www.youtube.com/watch?v=6cDU6JGEYSo)\n",
    "- SAS Viya - [Getting Started with the Python Interface of SAS Viya](https://video.sas.com/detail/video/5430217787001/getting-started-with-the-python-interface-of-sas-viya)\n",
    "- SAS Communities - [Loading Data from Python into CAS](https://communities.sas.com/t5/SAS-Communities-Library/Loading-Data-from-Python-into-CAS/ta-p/263567)\n",
    "- SAS Communities - [4 Approaches for Parallel Data Loading to CAS](https://communities.sas.com/t5/SAS-Communities-Library/4-Approaches-for-Parallel-Data-Loading-to-CAS/ta-p/370955)\n",
    "- SAS Paper - [Seriously Serial or Perfectly Parallel Data Transfer with SAS® Viya®](https://www.sas.com/content/dam/SAS/support/en/sas-global-forum-proceedings/2019/3479-2019.pdf)"
   ]
  },
  {
   "cell_type": "markdown",
   "id": "48f2e2c1-0dd3-4572-a841-21146bb4def1",
   "metadata": {
    "tags": []
   },
   "source": [
    "# Thank You for Attending SAS Explore!\n",
    "\n",
    "### Connect with me on LinkedIn!\n",
    "[Peter Styliadis](https://www.linkedin.com/in/peter-styliadis-712bb357/) Technical Training Consultant at SAS"
   ]
  },
  {
   "cell_type": "markdown",
   "id": "adaf55eb-2330-4969-a3ad-5fa984b301e4",
   "metadata": {},
   "source": [
    "![image](./images/10_a_thank_you.png)"
   ]
  },
  {
   "cell_type": "markdown",
   "id": "1e839e94-e36a-4b52-b028-a5511a5a0eb6",
   "metadata": {},
   "source": [
    "![image](./images/10_b_thank_you.png)"
   ]
  },
  {
   "cell_type": "markdown",
   "id": "103b4499-b31f-422f-97b9-549982ec5cbf",
   "metadata": {},
   "source": [
    " "
   ]
  }
 ],
 "metadata": {
  "kernelspec": {
   "display_name": "Python 3 (ipykernel)",
   "language": "python",
   "name": "python3"
  },
  "language_info": {
   "codemirror_mode": {
    "name": "ipython",
    "version": 3
   },
   "file_extension": ".py",
   "mimetype": "text/x-python",
   "name": "python",
   "nbconvert_exporter": "python",
   "pygments_lexer": "ipython3",
   "version": "3.8.12"
  }
 },
 "nbformat": 4,
 "nbformat_minor": 5
}
