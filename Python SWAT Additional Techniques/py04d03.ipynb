{
 "cells": [
  {
   "cell_type": "markdown",
   "metadata": {},
   "source": [
    "# DEMO: Getting Started with Regression"
   ]
  },
  {
   "cell_type": "markdown",
   "metadata": {},
   "source": [
    "### 1. Import Packages and Connect to the CAS Server\n",
    "\n",
    "Visit the documentation for the SWAT [(SAS Scripting Wrapper for Analytics Transfer)](https://sassoftware.github.io/python-swat/index.html) package."
   ]
  },
  {
   "cell_type": "code",
   "execution_count": 1,
   "metadata": {},
   "outputs": [],
   "source": [
    "## Import packages\n",
    "import swat\n",
    "import pandas as pd\n",
    "\n",
    "## Set options\n",
    "pd.set_option('max_columns', None)\n",
    "#pd.set_option('display.float_format', lambda x: '%.6f' % x)\n",
    "\n",
    "## Connect to CAS\n",
    "conn = swat.CAS('server.demo.sas.com', 30571, 'student', 'Metadata0', name='py04d03')\n",
    "\n",
    "## Function to load the loans_raw table into memory if necessary\n",
    "def loadloans():\n",
    "    conn.loadTable(path='loans_raw.sashdat', caslib='casuser',\n",
    "                   casOut={'name':'loans_raw',\n",
    "                           'caslib':'casuser',\n",
    "                           'promote':True})"
   ]
  },
  {
   "cell_type": "markdown",
   "metadata": {},
   "source": [
    "### 2. Explore Available CAS Tables and Data Source Files\n",
    "\n",
    "a. Use the **tableInfo** action to view all available in-memory tables in the casuser caslib. If the **loans_raw** CAS table is not available, uncomment the statement and execute the loadloans function."
   ]
  },
  {
   "cell_type": "code",
   "execution_count": 2,
   "metadata": {},
   "outputs": [
    {
     "data": {
      "text/html": [
       "<div class=\"cas-results-key\"><b>&#167; TableInfo</b></div>\n",
       "<div class=\"cas-results-body\">\n",
       "<div>\n",
       "<style scoped>\n",
       "    .dataframe tbody tr th:only-of-type {\n",
       "        vertical-align: middle;\n",
       "    }\n",
       "\n",
       "    .dataframe tbody tr th {\n",
       "        vertical-align: top;\n",
       "    }\n",
       "\n",
       "    .dataframe thead th {\n",
       "        text-align: right;\n",
       "    }\n",
       "</style>\n",
       "<table border=\"1\" class=\"dataframe\">\n",
       "  <thead>\n",
       "    <tr style=\"text-align: right;\">\n",
       "      <th title=\"\"></th>\n",
       "      <th title=\"Name\">Name</th>\n",
       "      <th title=\"Label\">Label</th>\n",
       "      <th title=\"Rows\">Rows</th>\n",
       "      <th title=\"Columns\">Columns</th>\n",
       "      <th title=\"Indexed Columns\">IndexedColumns</th>\n",
       "      <th title=\"Encoding\">Encoding</th>\n",
       "      <th title=\"Created\">CreateTimeFormatted</th>\n",
       "      <th title=\"Last Modified\">ModTimeFormatted</th>\n",
       "      <th title=\"Last Accessed\">AccessTimeFormatted</th>\n",
       "      <th title=\"Character Set\">JavaCharSet</th>\n",
       "      <th title=\"CreateTime\">CreateTime</th>\n",
       "      <th title=\"ModTime\">ModTime</th>\n",
       "      <th title=\"AccessTime\">AccessTime</th>\n",
       "      <th title=\"Global\">Global</th>\n",
       "      <th title=\"Repeated\">Repeated</th>\n",
       "      <th title=\"View\">View</th>\n",
       "      <th title=\"MultiPart\">MultiPart</th>\n",
       "      <th title=\"Loaded Source\">SourceName</th>\n",
       "      <th title=\"Source Caslib\">SourceCaslib</th>\n",
       "      <th title=\"Compressed\">Compressed</th>\n",
       "      <th title=\"Table Creator\">Creator</th>\n",
       "      <th title=\"Last Table Modifier\">Modifier</th>\n",
       "      <th title=\"Source Modified\">SourceModTimeFormatted</th>\n",
       "      <th title=\"SourceModTime\">SourceModTime</th>\n",
       "    </tr>\n",
       "  </thead>\n",
       "  <tbody>\n",
       "    <tr>\n",
       "      <td>0</td>\n",
       "      <td>CARS</td>\n",
       "      <td>2004 Car Data</td>\n",
       "      <td>428</td>\n",
       "      <td>15</td>\n",
       "      <td>0</td>\n",
       "      <td>utf-8</td>\n",
       "      <td>2021-11-29T14:03:24+00:00</td>\n",
       "      <td>2021-11-29T14:03:24+00:00</td>\n",
       "      <td>2021-12-01T18:06:10+00:00</td>\n",
       "      <td>UTF8</td>\n",
       "      <td>1.953814e+09</td>\n",
       "      <td>1.953814e+09</td>\n",
       "      <td>1.954001e+09</td>\n",
       "      <td>1</td>\n",
       "      <td>0</td>\n",
       "      <td>0</td>\n",
       "      <td>0</td>\n",
       "      <td>cars.sas7bdat</td>\n",
       "      <td>CASUSER(student)</td>\n",
       "      <td>0</td>\n",
       "      <td>student</td>\n",
       "      <td></td>\n",
       "      <td>2021-11-19T20:35:37+00:00</td>\n",
       "      <td>1.952973e+09</td>\n",
       "    </tr>\n",
       "    <tr>\n",
       "      <td>1</td>\n",
       "      <td>LOANS_RAW</td>\n",
       "      <td></td>\n",
       "      <td>18124151</td>\n",
       "      <td>20</td>\n",
       "      <td>0</td>\n",
       "      <td>utf-8</td>\n",
       "      <td>2021-11-30T21:00:16+00:00</td>\n",
       "      <td>2021-11-30T21:00:16+00:00</td>\n",
       "      <td>2021-12-01T21:14:07+00:00</td>\n",
       "      <td>UTF8</td>\n",
       "      <td>1.953925e+09</td>\n",
       "      <td>1.953925e+09</td>\n",
       "      <td>1.954012e+09</td>\n",
       "      <td>1</td>\n",
       "      <td>0</td>\n",
       "      <td>0</td>\n",
       "      <td>0</td>\n",
       "      <td>loans_raw.sashdat</td>\n",
       "      <td>CASUSER(student)</td>\n",
       "      <td>0</td>\n",
       "      <td>student</td>\n",
       "      <td></td>\n",
       "      <td>2021-11-19T20:31:23+00:00</td>\n",
       "      <td>1.952973e+09</td>\n",
       "    </tr>\n",
       "  </tbody>\n",
       "</table>\n",
       "</div>\n",
       "</div>\n",
       "<div class=\"cas-output-area\"></div>\n",
       "<p class=\"cas-results-performance\"><small><span class=\"cas-elapsed\">elapsed 0.00304s</span> &#183; <span class=\"cas-user\">user 0.00233s</span> &#183; <span class=\"cas-memory\">mem 0.807MB</span></small></p>"
      ],
      "text/plain": [
       "[TableInfo]\n",
       "\n",
       "         Name          Label      Rows  Columns  IndexedColumns Encoding        CreateTimeFormatted           ModTimeFormatted        AccessTimeFormatted JavaCharSet    CreateTime       ModTime    AccessTime  Global  Repeated  View  MultiPart         SourceName      SourceCaslib  Compressed  Creator Modifier     SourceModTimeFormatted  SourceModTime\n",
       " 0       CARS  2004 Car Data       428       15               0    utf-8  2021-11-29T14:03:24+00:00  2021-11-29T14:03:24+00:00  2021-12-01T18:06:10+00:00        UTF8  1.953814e+09  1.953814e+09  1.954001e+09       1         0     0          0      cars.sas7bdat  CASUSER(student)           0  student           2021-11-19T20:35:37+00:00   1.952973e+09\n",
       " 1  LOANS_RAW                 18124151       20               0    utf-8  2021-11-30T21:00:16+00:00  2021-11-30T21:00:16+00:00  2021-12-01T21:14:07+00:00        UTF8  1.953925e+09  1.953925e+09  1.954012e+09       1         0     0          0  loans_raw.sashdat  CASUSER(student)           0  student           2021-11-19T20:31:23+00:00   1.952973e+09\n",
       "\n",
       "+ Elapsed: 0.00304s, user: 0.00233s, mem: 0.807mb"
      ]
     },
     "execution_count": 2,
     "metadata": {},
     "output_type": "execute_result"
    }
   ],
   "source": [
    "#loadloans()\n",
    "conn.tableInfo(caslib='casuser')"
   ]
  },
  {
   "cell_type": "markdown",
   "metadata": {},
   "source": [
    "b. Reference the **loans_raw** CAS table."
   ]
  },
  {
   "cell_type": "code",
   "execution_count": 3,
   "metadata": {},
   "outputs": [],
   "source": [
    "mTbl = conn.CASTable('loans_raw', caslib='casuser', where = 'Category = \"Mortgage\"')"
   ]
  },
  {
   "cell_type": "markdown",
   "metadata": {},
   "source": [
    "c. Preview the **loans_raw** table of rows where the **Category** is *Mortgage* using the head method."
   ]
  },
  {
   "cell_type": "code",
   "execution_count": 4,
   "metadata": {},
   "outputs": [
    {
     "data": {
      "text/html": [
       "<div>\n",
       "<style scoped>\n",
       "    .dataframe tbody tr th:only-of-type {\n",
       "        vertical-align: middle;\n",
       "    }\n",
       "\n",
       "    .dataframe tbody tr th {\n",
       "        vertical-align: top;\n",
       "    }\n",
       "\n",
       "    .dataframe thead th {\n",
       "        text-align: right;\n",
       "    }\n",
       "</style>\n",
       "<table border=\"1\" class=\"dataframe\"><caption>Selected Rows from Table LOANS_RAW</caption>\n",
       "  <thead>\n",
       "    <tr style=\"text-align: right;\">\n",
       "      <th title=\"\"></th>\n",
       "      <th title=\"Amount\">Amount</th>\n",
       "      <th title=\"LoanStatus\">LoanStatus</th>\n",
       "      <th title=\"LoanGrade\">LoanGrade</th>\n",
       "      <th title=\"Salary\">Salary</th>\n",
       "      <th title=\"InterestRate\">InterestRate</th>\n",
       "    </tr>\n",
       "  </thead>\n",
       "  <tbody>\n",
       "    <tr>\n",
       "      <td>0</td>\n",
       "      <td>0.0</td>\n",
       "      <td>Cancelled</td>\n",
       "      <td>B</td>\n",
       "      <td>298003.0</td>\n",
       "      <td>4.56</td>\n",
       "    </tr>\n",
       "    <tr>\n",
       "      <td>1</td>\n",
       "      <td>0.0</td>\n",
       "      <td>Current</td>\n",
       "      <td>A</td>\n",
       "      <td>188995.0</td>\n",
       "      <td>3.49</td>\n",
       "    </tr>\n",
       "    <tr>\n",
       "      <td>2</td>\n",
       "      <td>278658.6</td>\n",
       "      <td>Current</td>\n",
       "      <td>B</td>\n",
       "      <td>171926.0</td>\n",
       "      <td>4.80</td>\n",
       "    </tr>\n",
       "    <tr>\n",
       "      <td>3</td>\n",
       "      <td>0.0</td>\n",
       "      <td>Default</td>\n",
       "      <td>D</td>\n",
       "      <td>40221.0</td>\n",
       "      <td>5.21</td>\n",
       "    </tr>\n",
       "    <tr>\n",
       "      <td>4</td>\n",
       "      <td>0.0</td>\n",
       "      <td>Current</td>\n",
       "      <td>A</td>\n",
       "      <td>191457.0</td>\n",
       "      <td>3.80</td>\n",
       "    </tr>\n",
       "  </tbody>\n",
       "</table>\n",
       "</div>"
      ],
      "text/plain": [
       "Selected Rows from Table LOANS_RAW\n",
       "\n",
       "     Amount LoanStatus LoanGrade    Salary  InterestRate\n",
       "0       0.0  Cancelled         B  298003.0          4.56\n",
       "1       0.0    Current         A  188995.0          3.49\n",
       "2  278658.6    Current         B  171926.0          4.80\n",
       "3       0.0    Default         D   40221.0          5.21\n",
       "4       0.0    Current         A  191457.0          3.80"
      ]
     },
     "execution_count": 4,
     "metadata": {},
     "output_type": "execute_result"
    }
   ],
   "source": [
    "mTbl.head().loc[:,['Amount','LoanStatus','LoanGrade','Salary', 'InterestRate']]"
   ]
  },
  {
   "cell_type": "markdown",
   "metadata": {},
   "source": [
    "**Can we predict the mortgage Amount based on the above columns?**"
   ]
  },
  {
   "cell_type": "markdown",
   "metadata": {},
   "source": [
    "### 3. Regression"
   ]
  },
  {
   "cell_type": "markdown",
   "metadata": {},
   "source": [
    "a. Load and preview the [regression](https://go.documentation.sas.com/doc/en/pgmsascdc/v_018/casactstat/casactstat_regression_toc.htm) action set."
   ]
  },
  {
   "cell_type": "code",
   "execution_count": 5,
   "metadata": {},
   "outputs": [
    {
     "name": "stdout",
     "output_type": "stream",
     "text": [
      "NOTE: Added action set 'regression'.\n"
     ]
    },
    {
     "data": {
      "text/plain": [
       "\u001b[1;31mSignature:\u001b[0m   \u001b[0mconn\u001b[0m\u001b[1;33m.\u001b[0m\u001b[0mregression\u001b[0m\u001b[1;33m(\u001b[0m\u001b[1;33m*\u001b[0m\u001b[0margs\u001b[0m\u001b[1;33m,\u001b[0m \u001b[1;33m**\u001b[0m\u001b[0mkwargs\u001b[0m\u001b[1;33m)\u001b[0m\u001b[1;33m\u001b[0m\u001b[1;33m\u001b[0m\u001b[0m\n",
       "\u001b[1;31mType:\u001b[0m        Regression\n",
       "\u001b[1;31mString form:\u001b[0m <swat.cas.actions.Regression object at 0x0000013001CFA100>\n",
       "\u001b[1;31mFile:\u001b[0m        c:\\programdata\\anaconda3\\lib\\site-packages\\swat\\cas\\actions.py\n",
       "\u001b[1;31mDocstring:\u001b[0m  \n",
       "Regression\n",
       "\n",
       "Actions\n",
       "-------\n",
       "regression.genmod              : Fits generalized linear regression models\n",
       "regression.genmodscore         : creates a table on the server that contains\n",
       "                                 results from scoring observations by using a\n",
       "                                 fitted model\n",
       "regression.glm                 : Fits linear regression models using the method\n",
       "                                 of least squares\n",
       "regression.glmscore            : creates a table on the server that contains\n",
       "                                 results from scoring observations by using a\n",
       "                                 fitted model\n",
       "regression.logistic            : Fits logistic regression models\n",
       "regression.logisticassociation : computes indices of rank correlation between\n",
       "                                 predicted probabilities and observed responses\n",
       "                                 used for assessing the predictive ability of a\n",
       "                                 model\n",
       "regression.logisticcode        : writes SAS DATA step code for computing\n",
       "                                 predicted values of the fitted model\n",
       "regression.logisticlackfit     : computes the Hosmer-Lemeshow test\n",
       "regression.logisticoddsratio   : creates a table that compares subpopulations by\n",
       "                                 using odds ratios.\n",
       "regression.logisticscore       : creates a table on the server that contains\n",
       "                                 results from scoring observations by using a\n",
       "                                 fitted model\n",
       "regression.logistictype3       : computes Type 3 or Joint tests that all\n",
       "                                 parameters for an effect are zero\n",
       "regression.modelmatrix         : creates a table on the server that contains the\n",
       "                                 design matrix associated with a given model\n",
       "                                 statement.\n"
      ]
     },
     "metadata": {},
     "output_type": "display_data"
    }
   ],
   "source": [
    "conn.loadActionSet('regression')\n",
    "conn.regression?"
   ]
  },
  {
   "cell_type": "markdown",
   "metadata": {},
   "source": [
    "b."
   ]
  },
  {
   "cell_type": "code",
   "execution_count": null,
   "metadata": {},
   "outputs": [],
   "source": [
    "classCols = ['Type','Origin']\n",
    "\n",
    "\n",
    "mTbl.glm(\n",
    "    target = 'MSRP',\n",
    "    inputs = ['Salary', 'InterestRate'] + classCols,\n",
    "    nominals = classCols,\n",
    "    selection = {'method':'BACKWARD'}\n",
    ")"
   ]
  },
  {
   "cell_type": "markdown",
   "metadata": {},
   "source": [
    "For more information on Machine Learning with Python, check out the [SAS® Viya® and Python Integration for Machine Learning](https://support.sas.com/edu/schedules.html?crs=POSI34&ctry=US) course."
   ]
  },
  {
   "cell_type": "markdown",
   "metadata": {},
   "source": [
    "### 4. Terminate the CAS Session"
   ]
  },
  {
   "cell_type": "markdown",
   "metadata": {},
   "source": [
    "a. It's best practice to always terminate the CAS session when you are done."
   ]
  },
  {
   "cell_type": "code",
   "execution_count": 7,
   "metadata": {},
   "outputs": [],
   "source": [
    "conn.terminate()"
   ]
  },
  {
   "cell_type": "markdown",
   "metadata": {},
   "source": [
    " "
   ]
  }
 ],
 "metadata": {
  "kernelspec": {
   "display_name": "Python 3",
   "language": "python",
   "name": "python3"
  },
  "language_info": {
   "codemirror_mode": {
    "name": "ipython",
    "version": 3
   },
   "file_extension": ".py",
   "mimetype": "text/x-python",
   "name": "python",
   "nbconvert_exporter": "python",
   "pygments_lexer": "ipython3",
   "version": "3.8.5"
  }
 },
 "nbformat": 4,
 "nbformat_minor": 4
}
