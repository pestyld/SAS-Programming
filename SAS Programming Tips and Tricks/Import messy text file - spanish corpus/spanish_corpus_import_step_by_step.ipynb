{
 "cells": [
  {
   "cell_type": "markdown",
   "id": "b293583a-92f9-4c5b-abde-4d7d3d893de6",
   "metadata": {},
   "source": [
    "# Import messy text file"
   ]
  },
  {
   "cell_type": "code",
   "execution_count": 8,
   "id": "57a5c579-a073-4ab4-864b-1d0bb2b77267",
   "metadata": {
    "tags": []
   },
   "outputs": [
    {
     "name": "stdout",
     "output_type": "stream",
     "text": [
      "\n",
      "19                                                         The SAS System                               14:18 Tuesday, July 25, 2023\n",
      "\n",
      "113        ods listing close;ods html5 (id=saspy_internal) file=_tomods1 options(bitmap_mode='inline') device=svg style=HTMLBlue;\n",
      "113      ! ods graphics on / outputfmt=png;\n",
      "\u001b[38;5;21mNOTE: Writing HTML5(SASPY_INTERNAL) Body file: _TOMODS1\u001b[0m\n",
      "114        \n",
      "115        * Current folder. SAS program must be saved to the location *;\n",
      "116        %let path = OneDrive - SAS/github repos/SAS Programming/SAS Programming Tips and Tricks/Import messy text file - spanish\n",
      "116      ! corpus;\n",
      "117        \n",
      "118        %put &path./Spanish_Corpus_Kaggle.txt\n",
      "119        \n",
      "120        \n",
      "OneDrive - SAS/github repos/SAS Programming/SAS Programming Tips and Tricks/Import messy text file - spanish \n",
      "corpus/Spanish_Corpus_Kaggle.txt\n",
      "121        ods html5 (id=saspy_internal) close;ods listing;\n",
      "122        \n",
      "\n",
      "20                                                         The SAS System                               14:18 Tuesday, July 25, 2023\n",
      "\n",
      "123        \n"
     ]
    }
   ],
   "source": [
    "* Current folder. SAS program must be saved to the location *; \n",
    "%let path = OneDrive - SAS/github repos/SAS Programming/SAS Programming Tips and Tricks/Import messy text file - spanish corpus;\n",
    "\n",
    "%put "
   ]
  },
  {
   "cell_type": "code",
   "execution_count": null,
   "id": "acd1d907-ed95-4fd6-af3b-d488248fa7f7",
   "metadata": {
    "tags": []
   },
   "outputs": [],
   "source": []
  },
  {
   "cell_type": "code",
   "execution_count": 2,
   "id": "b50f3705-c32f-45e2-a3b8-3b453ec0d162",
   "metadata": {
    "tags": []
   },
   "outputs": [
    {
     "name": "stdout",
     "output_type": "stream",
     "text": [
      "\n",
      "7                                                          The SAS System                               14:18 Tuesday, July 25, 2023\n",
      "\n",
      "36         ods listing close;ods html5 (id=saspy_internal) file=_tomods1 options(bitmap_mode='inline') device=svg style=HTMLBlue;\n",
      "36       ! ods graphics on / outputfmt=png;\n",
      "\u001b[38;5;21mNOTE: Writing HTML5(SASPY_INTERNAL) Body file: _TOMODS1\u001b[0m\n",
      "37         \n",
      "38         %put _all_;\n",
      "GLOBAL FILENAME &_sasprogramfile\n",
      "GLOBAL PATH \n",
      "AUTOMATIC AFDSID 0\n",
      "AUTOMATIC AFDSNAME \n",
      "AUTOMATIC AFLIB \n",
      "AUTOMATIC AFSTR1 \n",
      "AUTOMATIC AFSTR2 \n",
      "AUTOMATIC FSPBDV \n",
      "AUTOMATIC SYSADDRBITS 64\n",
      "AUTOMATIC SYSBUFFR \n",
      "AUTOMATIC SYSCC 4\n",
      "AUTOMATIC SYSCHARWIDTH 1\n",
      "AUTOMATIC SYSCMD \n",
      "AUTOMATIC SYSDATASTEPPHASE \n",
      "AUTOMATIC SYSDATE 25JUL23\n",
      "AUTOMATIC SYSDATE9 25JUL2023\n",
      "AUTOMATIC SYSDAY Tuesday\n",
      "AUTOMATIC SYSDEVIC \n",
      "AUTOMATIC SYSDMG 0\n",
      "AUTOMATIC SYSDSN         _NULL_                          \n",
      "AUTOMATIC SYSENCODING wlatin1\n",
      "AUTOMATIC SYSENDIAN LITTLE\n",
      "AUTOMATIC SYSENV BACK\n",
      "AUTOMATIC SYSERR 0\n",
      "AUTOMATIC SYSERRORTEXT \n",
      "AUTOMATIC SYSFILRC 0\n",
      "AUTOMATIC SYSHOSTINFOLONG X64_10PRO WIN 10.0.19041  Workstation\n",
      "AUTOMATIC SYSHOSTNAME l10j689\n",
      "AUTOMATIC SYSINCLUDEFILEDEVICE \n",
      "AUTOMATIC SYSINCLUDEFILEDIR \n",
      "AUTOMATIC SYSINCLUDEFILEFILEREF \n",
      "AUTOMATIC SYSINCLUDEFILENAME \n",
      "AUTOMATIC SYSINDEX 0\n",
      "AUTOMATIC SYSINFO 0\n",
      "AUTOMATIC SYSJOBID 20264\n",
      "AUTOMATIC SYSLAST _NULL_\n",
      "AUTOMATIC SYSLCKRC 0\n",
      "AUTOMATIC SYSLIBRC 0\n",
      "AUTOMATIC SYSLOGAPPLNAME \n",
      "AUTOMATIC SYSMACRONAME \n",
      "AUTOMATIC SYSMAXLONG 2147483647\n",
      "AUTOMATIC SYSMENV S\n",
      "AUTOMATIC SYSMSG \n",
      "AUTOMATIC SYSNCPU 4                   \n",
      "AUTOMATIC SYSNOBS 0\n",
      "AUTOMATIC SYSODSESCAPECHAR 03\n",
      "AUTOMATIC SYSODSGRAPHICS 1\n",
      "AUTOMATIC SYSODSPATH  SASUSER.TEMPLAT(UPDATE) SASHELP.TMPLMST(READ)\n",
      "AUTOMATIC SYSPARM \n",
      "AUTOMATIC SYSPRINTTOLOG \n",
      "AUTOMATIC SYSPRINTTOLIST \n",
      "AUTOMATIC SYSPROCESSID 41DDE3F4518AF1AA4018000000000000\n",
      "AUTOMATIC SYSPROCESSMODE SAS Workspace Server\n",
      "AUTOMATIC SYSPROCESSNAME Object Server\n",
      "AUTOMATIC SYSPROCNAME \n",
      "AUTOMATIC SYSRC 0\n",
      "AUTOMATIC SYSSCP WIN\n",
      "AUTOMATIC SYSSCPL X64_10PRO\n",
      "AUTOMATIC SYSSITE 70068130\n",
      "AUTOMATIC SYSSIZEOFLONG 4\n",
      "AUTOMATIC SYSSIZEOFPTR 8\n",
      "AUTOMATIC SYSSIZEOFUNICODE 2\n",
      "AUTOMATIC SYSSTARTID \n",
      "AUTOMATIC SYSSTARTNAME \n",
      "AUTOMATIC SYSTCPIPHOSTNAME l10j689\n",
      "AUTOMATIC SYSTIME 14:18\n",
      "AUTOMATIC SYSTIMEZONE \n",
      "AUTOMATIC SYSTIMEZONEIDENT \n",
      "AUTOMATIC SYSTIMEZONEOFFSET -14400\n",
      "AUTOMATIC SYSUSERID pestyl\n",
      "AUTOMATIC SYSVER 9.4     \n",
      "AUTOMATIC SYSVLONG 9.04.01M7P080520\n",
      "AUTOMATIC SYSVLONG4 9.04.01M7P08052020\n",
      "AUTOMATIC SYSWARNINGTEXT Apparent symbolic reference _SASPROGRAMFILE not resolved.\n",
      "39         \n",
      "40         \n",
      "41         ods html5 (id=saspy_internal) close;ods listing;\n",
      "42         \n",
      "\n",
      "8                                                          The SAS System                               14:18 Tuesday, July 25, 2023\n",
      "\n",
      "43         \n"
     ]
    }
   ],
   "source": [
    "Spanish_Corpus_Kaggle.txt"
   ]
  },
  {
   "cell_type": "code",
   "execution_count": null,
   "id": "cf1b65ca-e49c-452d-9b9d-f2c4667be733",
   "metadata": {},
   "outputs": [],
   "source": []
  }
 ],
 "metadata": {
  "kernelspec": {
   "display_name": "SAS",
   "language": "sas",
   "name": "sas"
  },
  "language_info": {
   "codemirror_mode": "sas",
   "file_extension": ".sas",
   "mimetype": "text/x-sas",
   "name": "sas"
  }
 },
 "nbformat": 4,
 "nbformat_minor": 5
}
