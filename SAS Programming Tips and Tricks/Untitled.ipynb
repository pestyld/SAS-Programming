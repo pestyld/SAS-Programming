{
 "cells": [
  {
   "cell_type": "markdown",
   "id": "5397c0b0-9034-4d8f-a243-a9124b301fa7",
   "metadata": {},
   "source": [
    "## SAS Linear Regression"
   ]
  },
  {
   "cell_type": "code",
   "execution_count": null,
   "id": "d2df70a0-4a44-46a9-b8e8-ac04635cc2fa",
   "metadata": {},
   "outputs": [
    {
     "name": "stdout",
     "output_type": "stream",
     "text": [
      "We failed in getConnection\n",
      "The application could not log on to the server \"localhost:0\". Integrated Windows authentication failed.\n",
      "SAS process has terminated unexpectedly. RC from wait was: 4294967290\n",
      "SAS Connection failed. No connection established. Double check your settings in sascfg_personal.py file.\n",
      "\n",
      "Attempted to run program C:\\Program Files\\SASHome\\SASPrivateJavaRuntimeEnvironment\\9.4\\jre\\bin\\java.exe with the following parameters:['C:\\\\Program Files\\\\SASHome\\\\SASPrivateJavaRuntimeEnvironment\\\\9.4\\\\jre\\\\bin\\\\java.exe', '-classpath', 'C:\\\\Users\\\\pestyl\\\\Anaconda3\\\\lib\\\\site-packages\\\\saspy\\\\java\\\\saspyiom.jar;C:\\\\Users\\\\pestyl\\\\Anaconda3\\\\lib\\\\site-packages\\\\saspy\\\\java\\\\iomclient\\\\log4j.jar;C:\\\\Users\\\\pestyl\\\\Anaconda3\\\\lib\\\\site-packages\\\\saspy\\\\java\\\\iomclient\\\\sas.security.sspi.jar;C:\\\\Users\\\\pestyl\\\\Anaconda3\\\\lib\\\\site-packages\\\\saspy\\\\java\\\\iomclient\\\\sas.core.jar;C:\\\\Users\\\\pestyl\\\\Anaconda3\\\\lib\\\\site-packages\\\\saspy\\\\java\\\\iomclient\\\\sas.svc.connection.jar;C:\\\\Users\\\\pestyl\\\\Anaconda3\\\\lib\\\\site-packages\\\\saspy\\\\java\\\\iomclient\\\\sas.rutil.jar;C:\\\\Users\\\\pestyl\\\\Anaconda3\\\\lib\\\\site-packages\\\\saspy\\\\java\\\\iomclient\\\\sas.rutil.nls.jar;C:\\\\Users\\\\pestyl\\\\Anaconda3\\\\lib\\\\site-packages\\\\saspy\\\\java\\\\iomclient\\\\sastpj.rutil.jar;C:\\\\Users\\\\pestyl\\\\Anaconda3\\\\lib\\\\site-packages\\\\saspy\\\\java\\\\thirdparty\\\\glassfish-corba-internal-api.jar;C:\\\\Users\\\\pestyl\\\\Anaconda3\\\\lib\\\\site-packages\\\\saspy\\\\java\\\\thirdparty\\\\glassfish-corba-omgapi.jar;C:\\\\Users\\\\pestyl\\\\Anaconda3\\\\lib\\\\site-packages\\\\saspy\\\\java\\\\thirdparty\\\\glassfish-corba-orb.jar;C:\\\\Users\\\\pestyl\\\\Anaconda3\\\\lib\\\\site-packages\\\\saspy\\\\java\\\\thirdparty\\\\pfl-basic.jar;C:\\\\Users\\\\pestyl\\\\Anaconda3\\\\lib\\\\site-packages\\\\saspy\\\\java\\\\thirdparty\\\\pfl-tf.jar', 'pyiom.saspy2j', '-host', 'localhost', '-stdinport', '49471', '-stdoutport', '49472', '-stderrport', '49474', '-zero', '-lrecl', '1048576', '']\n",
      "\n",
      "Be sure the path to sspiauth.dll is in your System PATH\n",
      "\n",
      "No SAS process attached. SAS process has terminated unexpectedly.\n",
      "Invalid response from SAS on inital submission. printing the SASLOG as diagnostic\n",
      "\n"
     ]
    }
   ],
   "source": [
    "proc import datafile=\"OneDrive - SAS/github repos/SAS Programming/SAS Programming Demos/data/boston_housing.csv\"\n",
    "            dbms=csv\n",
    "            out=work.boston;\n",
    "    guessingrows=250;\n",
    "run;"
   ]
  },
  {
   "cell_type": "code",
   "execution_count": null,
   "id": "7007260d-7391-4f4b-89ac-26293cbd4d4e",
   "metadata": {},
   "outputs": [],
   "source": []
  }
 ],
 "metadata": {
  "kernelspec": {
   "display_name": "SAS",
   "language": "sas",
   "name": "sas"
  },
  "language_info": {
   "codemirror_mode": "sas",
   "file_extension": ".sas",
   "mimetype": "text/x-sas",
   "name": "sas"
  }
 },
 "nbformat": 4,
 "nbformat_minor": 5
}
